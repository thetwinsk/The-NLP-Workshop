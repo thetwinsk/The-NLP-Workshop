{
 "cells": [
  {
   "cell_type": "code",
   "execution_count": 3,
   "id": "cf2d7ff6",
   "metadata": {},
   "outputs": [
    {
     "data": {
      "text/plain": [
       "(541909, 8)"
      ]
     },
     "execution_count": 3,
     "metadata": {},
     "output_type": "execute_result"
    }
   ],
   "source": [
    "import pandas as pd\n",
    "data = pd.read_excel('~/Documents/TheNLPWorkshop/Chapter3/Online Retail.xlsx')\n",
    "data.shape"
   ]
  },
  {
   "cell_type": "code",
   "execution_count": 5,
   "id": "6ce124c2",
   "metadata": {},
   "outputs": [
    {
     "data": {
      "text/plain": [
       "(54191, 8)"
      ]
     },
     "execution_count": 5,
     "metadata": {},
     "output_type": "execute_result"
    }
   ],
   "source": [
    "#selecting 10% of the data randomly\n",
    "data_sample_random = data.sample(frac=0.1, random_state=42)\n",
    "data_sample_random.shape"
   ]
  },
  {
   "cell_type": "code",
   "execution_count": 6,
   "id": "c58b00ee",
   "metadata": {},
   "outputs": [],
   "source": [
    "#use sklearn's train_test_split to create a stratified sample\n",
    "from sklearn.model_selection import train_test_split\n",
    "X_train, X_valid, y_train, y_valid = train_test_split(data, data['Country'], test_size=0.2,\n",
    "                                                     random_state=42, stratify=data['Country'])"
   ]
  },
  {
   "cell_type": "code",
   "execution_count": 7,
   "id": "68753ed8",
   "metadata": {},
   "outputs": [
    {
     "data": {
      "text/plain": [
       "United Kingdom          0.914319\n",
       "Germany                 0.017521\n",
       "France                  0.015789\n",
       "EIRE                    0.015125\n",
       "Spain                   0.004673\n",
       "Netherlands             0.004376\n",
       "Belgium                 0.003818\n",
       "Switzerland             0.003695\n",
       "Portugal                0.002803\n",
       "Australia               0.002323\n",
       "Norway                  0.002004\n",
       "Italy                   0.001481\n",
       "Channel Islands         0.001398\n",
       "Finland                 0.001283\n",
       "Cyprus                  0.001149\n",
       "Sweden                  0.000853\n",
       "Unspecified             0.000823\n",
       "Austria                 0.000740\n",
       "Denmark                 0.000717\n",
       "Japan                   0.000660\n",
       "Poland                  0.000630\n",
       "Israel                  0.000549\n",
       "USA                     0.000537\n",
       "Hong Kong               0.000531\n",
       "Singapore               0.000422\n",
       "Iceland                 0.000337\n",
       "Canada                  0.000279\n",
       "Greece                  0.000270\n",
       "Malta                   0.000235\n",
       "United Arab Emirates    0.000125\n",
       "European Community      0.000113\n",
       "RSA                     0.000106\n",
       "Lebanon                 0.000083\n",
       "Lithuania               0.000065\n",
       "Brazil                  0.000060\n",
       "Czech Republic          0.000055\n",
       "Bahrain                 0.000035\n",
       "Saudi Arabia            0.000018\n",
       "Name: Country, dtype: float64"
      ]
     },
     "execution_count": 7,
     "metadata": {},
     "output_type": "execute_result"
    }
   ],
   "source": [
    "y_train.value_counts()/y_train.shape[0]"
   ]
  },
  {
   "cell_type": "code",
   "execution_count": 8,
   "id": "b7848807",
   "metadata": {},
   "outputs": [
    {
     "data": {
      "text/plain": [
       "United Kingdom          0.914322\n",
       "Germany                 0.017521\n",
       "France                  0.015796\n",
       "EIRE                    0.015122\n",
       "Spain                   0.004678\n",
       "Netherlands             0.004373\n",
       "Belgium                 0.003820\n",
       "Switzerland             0.003691\n",
       "Portugal                0.002805\n",
       "Australia               0.002325\n",
       "Norway                  0.002002\n",
       "Italy                   0.001485\n",
       "Channel Islands         0.001402\n",
       "Finland                 0.001283\n",
       "Cyprus                  0.001144\n",
       "Sweden                  0.000849\n",
       "Unspecified             0.000821\n",
       "Austria                 0.000738\n",
       "Denmark                 0.000720\n",
       "Japan                   0.000664\n",
       "Poland                  0.000627\n",
       "Israel                  0.000544\n",
       "USA                     0.000535\n",
       "Hong Kong               0.000535\n",
       "Singapore               0.000424\n",
       "Iceland                 0.000332\n",
       "Canada                  0.000277\n",
       "Greece                  0.000268\n",
       "Malta                   0.000231\n",
       "United Arab Emirates    0.000129\n",
       "RSA                     0.000111\n",
       "European Community      0.000111\n",
       "Lebanon                 0.000083\n",
       "Lithuania               0.000065\n",
       "Czech Republic          0.000055\n",
       "Brazil                  0.000055\n",
       "Bahrain                 0.000037\n",
       "Saudi Arabia            0.000018\n",
       "Name: Country, dtype: float64"
      ]
     },
     "execution_count": 8,
     "metadata": {},
     "output_type": "execute_result"
    }
   ],
   "source": [
    "y_valid.value_counts()/y_valid.shape[0]"
   ]
  },
  {
   "cell_type": "code",
   "execution_count": 9,
   "id": "5fbf3883",
   "metadata": {},
   "outputs": [
    {
     "data": {
      "text/plain": [
       "(356940, 8)"
      ]
     },
     "execution_count": 9,
     "metadata": {},
     "output_type": "execute_result"
    }
   ],
   "source": [
    "data_ugf = data[data['Country'].isin(['United Kingdom', 'Germany', 'France'])]\n",
    "data_ugf_q2 = data_ugf[data_ugf['Quantity']>=2]\n",
    "data_ugf_q2_sample = data_ugf_q2.sample(frac=.02, random_state=42)\n",
    "data_ugf_q2.shape"
   ]
  },
  {
   "cell_type": "code",
   "execution_count": 10,
   "id": "700a7d37",
   "metadata": {},
   "outputs": [
    {
     "data": {
      "text/plain": [
       "(7139, 8)"
      ]
     },
     "execution_count": 10,
     "metadata": {},
     "output_type": "execute_result"
    }
   ],
   "source": [
    "data_ugf_q2_sample.shape"
   ]
  },
  {
   "cell_type": "code",
   "execution_count": null,
   "id": "cadaf74e",
   "metadata": {},
   "outputs": [],
   "source": []
  }
 ],
 "metadata": {
  "kernelspec": {
   "display_name": "Python 3",
   "language": "python",
   "name": "python3"
  },
  "language_info": {
   "codemirror_mode": {
    "name": "ipython",
    "version": 3
   },
   "file_extension": ".py",
   "mimetype": "text/x-python",
   "name": "python",
   "nbconvert_exporter": "python",
   "pygments_lexer": "ipython3",
   "version": "3.8.8"
  }
 },
 "nbformat": 4,
 "nbformat_minor": 5
}
