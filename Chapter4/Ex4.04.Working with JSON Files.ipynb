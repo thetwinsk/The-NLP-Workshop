{
 "cells": [
  {
   "cell_type": "code",
   "execution_count": 1,
   "id": "611892b9",
   "metadata": {},
   "outputs": [
    {
     "name": "stdout",
     "output_type": "stream",
     "text": [
      "{'students': [{'name': 'Gangaram', 'qualification': 'B.Tech'},\n",
      "              {'name': 'Ganga', 'qualification': 'B.A.'},\n",
      "              {'additional qualification': 'M.Tech',\n",
      "               'name': 'Ram',\n",
      "               'qualification': 'B.Tech'},\n",
      "              {'name': 'Ramlal',\n",
      "               'other qualification': 'Diploma in Music',\n",
      "               'qualification': 'B.Music'}]}\n"
     ]
    }
   ],
   "source": [
    "import json\n",
    "from pprint import pprint\n",
    "path = '/Users/kaylanguyen/Documents/TheNLPWorkshop/Chapter4/'\n",
    "data = json.load(open(path + 'sample_json.json'))\n",
    "pprint(data)"
   ]
  },
  {
   "cell_type": "code",
   "execution_count": 2,
   "id": "a3e835a2",
   "metadata": {},
   "outputs": [
    {
     "data": {
      "text/plain": [
       "['Gangaram', 'Ganga', 'Ram', 'Ramlal']"
      ]
     },
     "execution_count": 2,
     "metadata": {},
     "output_type": "execute_result"
    }
   ],
   "source": [
    "#extract the names of the students\n",
    "[dt['name'] for dt in data['students']]"
   ]
  },
  {
   "cell_type": "code",
   "execution_count": 7,
   "id": "4d69fe26",
   "metadata": {},
   "outputs": [
    {
     "data": {
      "text/plain": [
       "['B.Tech', 'B.A.', 'B.Tech', 'B.Music']"
      ]
     },
     "execution_count": 7,
     "metadata": {},
     "output_type": "execute_result"
    }
   ],
   "source": [
    "#extract their respective qualifications\n",
    "[dt['qualification'] for dt in data['students']]"
   ]
  },
  {
   "cell_type": "code",
   "execution_count": 8,
   "id": "abba812a",
   "metadata": {},
   "outputs": [
    {
     "data": {
      "text/plain": [
       "[None, None, 'M.Tech', None]"
      ]
     },
     "execution_count": 8,
     "metadata": {},
     "output_type": "execute_result"
    }
   ],
   "source": [
    "#extract their additional qualifications\n",
    "[dt['additional qualification'] if 'additional qualification' in dt.keys()\\\n",
    "  else None for dt in data['students']]"
   ]
  },
  {
   "cell_type": "code",
   "execution_count": null,
   "id": "25b1acf0",
   "metadata": {},
   "outputs": [],
   "source": []
  }
 ],
 "metadata": {
  "kernelspec": {
   "display_name": "Python 3",
   "language": "python",
   "name": "python3"
  },
  "language_info": {
   "codemirror_mode": {
    "name": "ipython",
    "version": 3
   },
   "file_extension": ".py",
   "mimetype": "text/x-python",
   "name": "python",
   "nbconvert_exporter": "python",
   "pygments_lexer": "ipython3",
   "version": "3.8.8"
  }
 },
 "nbformat": 4,
 "nbformat_minor": 5
}
