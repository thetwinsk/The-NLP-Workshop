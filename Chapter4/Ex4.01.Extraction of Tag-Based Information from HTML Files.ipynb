{
 "cells": [
  {
   "cell_type": "code",
   "execution_count": 1,
   "id": "8bdb2c53",
   "metadata": {},
   "outputs": [
    {
     "data": {
      "text/plain": [
       "'\\n\\n\\n A sample HTML Page \\n\\n\\nI am staying at  Mess on No. 72, Banamali Naskar Lane, Kolkata. \\nSherlock  stays at 221B, Baker Street, London, UK. \\nHamlet said to Horatio,   There are more things in heaven and earth, Horatio,  Than are dreamt of in your philosophy. \\n A table denoting details of students\\n\\n\\nname\\nqualification\\nadditional qualification\\nother qualification\\n\\n\\nGangaram\\nB.Tech\\nNA\\nNA\\n\\n\\nGanga\\nB.A.\\nNA\\nNA\\n\\n\\nRam\\nB.Tech\\nM.Tech\\nNA\\n\\n\\nRamlal\\nB.Music\\nNA\\nDiploma in Music\\n\\n\\n\\n'"
      ]
     },
     "execution_count": 1,
     "metadata": {},
     "output_type": "execute_result"
    }
   ],
   "source": [
    "from bs4 import BeautifulSoup\n",
    "path = '/Users/kaylanguyen/Documents/TheNLPWorkshop/Chapter4/'\n",
    "soup = BeautifulSoup(open(path + 'sample_doc.html'), 'html.parser')\n",
    "soup.text"
   ]
  },
  {
   "cell_type": "code",
   "execution_count": 2,
   "id": "341fe569",
   "metadata": {},
   "outputs": [
    {
     "data": {
      "text/plain": [
       "['html',\n",
       " '\\n',\n",
       " <html>\n",
       " <head>\n",
       " <title> A sample HTML Page </title>\n",
       " </head>\n",
       " <body>\n",
       " I am staying at <address> Mess on No. 72, Banamali Naskar Lane, Kolkata.</address> <br/>\n",
       " <b>Sherlock </b> stays at <address>221B, Baker Street, London, UK.</address> <br/>\n",
       " <b>Hamlet</b> said to <b>Horatio</b>, <br/> <q> There are more things in heaven and earth, Horatio, <br/> Than are dreamt of in your philosophy. </q>\n",
       " <h1> A table denoting details of students</h1>\n",
       " <table>\n",
       " <tr>\n",
       " <th>name</th>\n",
       " <th>qualification</th>\n",
       " <th>additional qualification</th>\n",
       " <th>other qualification</th>\n",
       " </tr>\n",
       " <tr>\n",
       " <td>Gangaram</td>\n",
       " <td>B.Tech</td>\n",
       " <td>NA</td>\n",
       " <td>NA</td>\n",
       " </tr>\n",
       " <tr>\n",
       " <td>Ganga</td>\n",
       " <td>B.A.</td>\n",
       " <td>NA</td>\n",
       " <td>NA</td>\n",
       " </tr>\n",
       " <tr>\n",
       " <td>Ram</td>\n",
       " <td>B.Tech</td>\n",
       " <td>M.Tech</td>\n",
       " <td>NA</td>\n",
       " </tr>\n",
       " <tr>\n",
       " <td>Ramlal</td>\n",
       " <td>B.Music</td>\n",
       " <td>NA</td>\n",
       " <td>Diploma in Music</td>\n",
       " </tr>\n",
       " </table>\n",
       " </body>\n",
       " </html>]"
      ]
     },
     "execution_count": 2,
     "metadata": {},
     "output_type": "execute_result"
    }
   ],
   "source": [
    "soup.contents"
   ]
  },
  {
   "cell_type": "code",
   "execution_count": 3,
   "id": "bf807df7",
   "metadata": {},
   "outputs": [
    {
     "data": {
      "text/plain": [
       "<address> Mess on No. 72, Banamali Naskar Lane, Kolkata.</address>"
      ]
     },
     "execution_count": 3,
     "metadata": {},
     "output_type": "execute_result"
    }
   ],
   "source": [
    "soup.find('address')"
   ]
  },
  {
   "cell_type": "code",
   "execution_count": 4,
   "id": "901558b7",
   "metadata": {},
   "outputs": [
    {
     "data": {
      "text/plain": [
       "[<address> Mess on No. 72, Banamali Naskar Lane, Kolkata.</address>,\n",
       " <address>221B, Baker Street, London, UK.</address>]"
      ]
     },
     "execution_count": 4,
     "metadata": {},
     "output_type": "execute_result"
    }
   ],
   "source": [
    "soup.find_all('address')"
   ]
  },
  {
   "cell_type": "code",
   "execution_count": 5,
   "id": "869877cd",
   "metadata": {},
   "outputs": [
    {
     "data": {
      "text/plain": [
       "[<q> There are more things in heaven and earth, Horatio, <br/> Than are dreamt of in your philosophy. </q>]"
      ]
     },
     "execution_count": 5,
     "metadata": {},
     "output_type": "execute_result"
    }
   ],
   "source": [
    "#To find the quotes in the document\n",
    "soup.find_all('q')"
   ]
  },
  {
   "cell_type": "code",
   "execution_count": 6,
   "id": "540adc31",
   "metadata": {},
   "outputs": [
    {
     "data": {
      "text/plain": [
       "[<b>Sherlock </b>, <b>Hamlet</b>, <b>Horatio</b>]"
      ]
     },
     "execution_count": 6,
     "metadata": {},
     "output_type": "execute_result"
    }
   ],
   "source": [
    "#To check all the bold items\n",
    "soup.find_all('b')"
   ]
  },
  {
   "cell_type": "code",
   "execution_count": 7,
   "id": "b563e83a",
   "metadata": {},
   "outputs": [],
   "source": [
    "table = soup.find('table')"
   ]
  },
  {
   "cell_type": "code",
   "execution_count": 8,
   "id": "14d7e619",
   "metadata": {},
   "outputs": [
    {
     "name": "stdout",
     "output_type": "stream",
     "text": [
      "[]\n",
      "[<td>Gangaram</td>, <td>B.Tech</td>, <td>NA</td>, <td>NA</td>]\n",
      "[<td>Ganga</td>, <td>B.A.</td>, <td>NA</td>, <td>NA</td>]\n",
      "[<td>Ram</td>, <td>B.Tech</td>, <td>M.Tech</td>, <td>NA</td>]\n",
      "[<td>Ramlal</td>, <td>B.Music</td>, <td>NA</td>, <td>Diploma in Music</td>]\n"
     ]
    }
   ],
   "source": [
    "for row in table.find_all('tr'):\n",
    "    columns = row.find_all('td')\n",
    "    print(columns)"
   ]
  },
  {
   "cell_type": "code",
   "execution_count": 9,
   "id": "260e7891",
   "metadata": {},
   "outputs": [
    {
     "data": {
      "text/plain": [
       "<td>M.Tech</td>"
      ]
     },
     "execution_count": 9,
     "metadata": {},
     "output_type": "execute_result"
    }
   ],
   "source": [
    "#To locate the (specific) value at the intersection of the 3rd row \n",
    "#and the 2nd column\n",
    "table.find_all('tr')[3].find_all('td')[2]"
   ]
  },
  {
   "cell_type": "code",
   "execution_count": null,
   "id": "884c9499",
   "metadata": {},
   "outputs": [],
   "source": []
  }
 ],
 "metadata": {
  "kernelspec": {
   "display_name": "Python 3",
   "language": "python",
   "name": "python3"
  },
  "language_info": {
   "codemirror_mode": {
    "name": "ipython",
    "version": 3
   },
   "file_extension": ".py",
   "mimetype": "text/x-python",
   "name": "python",
   "nbconvert_exporter": "python",
   "pygments_lexer": "ipython3",
   "version": "3.8.8"
  }
 },
 "nbformat": 4,
 "nbformat_minor": 5
}
