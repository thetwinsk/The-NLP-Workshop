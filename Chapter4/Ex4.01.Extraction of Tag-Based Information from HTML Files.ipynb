{
 "cells": [
  {
   "cell_type": "code",
   "execution_count": 1,
   "id": "8bdb2c53",
   "metadata": {},
   "outputs": [
    {
     "data": {
      "text/plain": [
       "'\\n\\n\\nCh3_Activity7_Developing_end_to_end_Text_Classifiers\\n\\n\\n\\n\\n\\n\\n\\n\\n\\n\\n\\n\\n\\n\\n\\n\\n\\n\\n\\n\\nActivity 7 : Developing '"
      ]
     },
     "execution_count": 1,
     "metadata": {},
     "output_type": "execute_result"
    }
   ],
   "source": [
    "from bs4 import BeautifulSoup\n",
    "path = path = '/Users/kaylanguyen/Documents/TheNLPWorkshop/Chapter4/'\n",
    "soup = BeautifulSoup(open(path + 'text_classifier.html'), 'html.parser')\n",
    "soup.text[:100]"
   ]
  },
  {
   "cell_type": "code",
   "execution_count": 2,
   "id": "341fe569",
   "metadata": {},
   "outputs": [
    {
     "data": {
      "text/plain": [
       "['html',\n",
       " '\\n',\n",
       " <html>\n",
       " <head>\n",
       " <title> A sample HTML Page </title>\n",
       " </head>\n",
       " <body>\n",
       " I am staying at <address> Mess on No. 72, Banamali Naskar Lane, Kolkata.</address> <br/>\n",
       " <b>Sherlock </b> stays at <address>221B, Baker Street, London, UK.</address> <br/>\n",
       " <b>Hamlet</b> said to <b>Horatio</b>, <br/> <q> There are more things in heaven and earth, Horatio, <br/> Than are dreamt of in your philosophy. </q>\n",
       " <h1> A table denoting details of students</h1>\n",
       " <table>\n",
       " <tr>\n",
       " <th>name</th>\n",
       " <th>qualification</th>\n",
       " <th>additional qualification</th>\n",
       " <th>other qualification</th>\n",
       " </tr>\n",
       " <tr>\n",
       " <td>Gangaram</td>\n",
       " <td>B.Tech</td>\n",
       " <td>NA</td>\n",
       " <td>NA</td>\n",
       " </tr>\n",
       " <tr>\n",
       " <td>Ganga</td>\n",
       " <td>B.A.</td>\n",
       " <td>NA</td>\n",
       " <td>NA</td>\n",
       " </tr>\n",
       " <tr>\n",
       " <td>Ram</td>\n",
       " <td>B.Tech</td>\n",
       " <td>M.Tech</td>\n",
       " <td>NA</td>\n",
       " </tr>\n",
       " <tr>\n",
       " <td>Ramlal</td>\n",
       " <td>B.Music</td>\n",
       " <td>NA</td>\n",
       " <td>Diploma in Music</td>\n",
       " </tr>\n",
       " </table>\n",
       " </body>\n",
       " </html>]"
      ]
     },
     "execution_count": 2,
     "metadata": {},
     "output_type": "execute_result"
    }
   ],
   "source": [
    "soup.contents"
   ]
  },
  {
   "cell_type": "code",
   "execution_count": 2,
   "id": "e84b642e",
   "metadata": {},
   "outputs": [
    {
     "data": {
      "text/plain": [
       "3"
      ]
     },
     "execution_count": 2,
     "metadata": {},
     "output_type": "execute_result"
    }
   ],
   "source": [
    "#Use the img tag to count the number of imgages\n",
    "len(soup.find_all('img'))"
   ]
  },
  {
   "cell_type": "code",
   "execution_count": 3,
   "id": "901558b7",
   "metadata": {},
   "outputs": [
    {
     "data": {
      "text/plain": [
       "['pandas',\n",
       " 'pd',\n",
       " 'seaborn',\n",
       " 'sns',\n",
       " 'matplotlib.pyplot',\n",
       " 'plt',\n",
       " 're',\n",
       " 'string',\n",
       " 'nltk',\n",
       " 'nltk.corpus',\n",
       " 'nltk.stem',\n",
       " 'sklearn.feature_extraction.text',\n",
       " 'sklearn.model_selection',\n",
       " 'pylab',\n",
       " 'nltk',\n",
       " 'warnings',\n",
       " 'sklearn.metrics',\n",
       " 'sklearn.linear_model',\n",
       " 'sklearn.ensemble',\n",
       " 'xgboost']"
      ]
     },
     "execution_count": 3,
     "metadata": {},
     "output_type": "execute_result"
    }
   ],
   "source": [
    "[i.get_text() for i in soup.find_all('span', attrs={\"class\": \"nn\"})]"
   ]
  },
  {
   "cell_type": "markdown",
   "id": "650012c5",
   "metadata": {},
   "source": [
    ">To extract the models and their performance, look at the HTML document and see which **class** attribute the models and their perormance belong to. You will the **h2** and **div** tags with the **class** attribute \n",
    "\n",
    ">**output_subarea**\n",
    "\n",
    ">**output_stream**\n",
    "\n",
    ">**output_stdout**\n",
    "\n",
    ">**output_text**"
   ]
  },
  {
   "cell_type": "code",
   "execution_count": 11,
   "id": "869877cd",
   "metadata": {},
   "outputs": [
    {
     "name": "stdout",
     "output_type": "stream",
     "text": [
      "Model:  Logistic Regression¶\n",
      "\n",
      "confusion matrix: \n",
      " [[28705   151]\n",
      " [ 1663  1396]]\n",
      "\n",
      "accuracy:  0.943161522794924\n",
      "\n",
      "classification report: \n",
      "               precision    recall  f1-score   support\n",
      "\n",
      "           0       0.95      0.99      0.97     28856\n",
      "           1       0.90      0.46      0.61      3059\n",
      "\n",
      "   micro avg       0.94      0.94      0.94     31915\n",
      "   macro avg       0.92      0.73      0.79     31915\n",
      "weighted avg       0.94      0.94      0.93     31915\n",
      "\n",
      "\n",
      "Area under ROC curve for validation set: 0.911224422146723\n",
      "\n",
      "\n",
      "-----------------------------------------------------------\n",
      "\n",
      "\n",
      "\n",
      "Model:  Random Forest¶\n",
      "\n",
      "confusion matrix: \n",
      " [[28856     0]\n",
      " [ 2990    69]]\n",
      "\n",
      "accuracy:  0.9063136456211812\n",
      "\n",
      "classification report: \n",
      "               precision    recall  f1-score   support\n",
      "\n",
      "           0       0.91      1.00      0.95     28856\n",
      "           1       1.00      0.02      0.04      3059\n",
      "\n",
      "   micro avg       0.91      0.91      0.91     31915\n",
      "   macro avg       0.95      0.51      0.50     31915\n",
      "weighted avg       0.92      0.91      0.86     31915\n",
      "\n",
      "\n",
      "Area under ROC curve for validation set: 0.8531297215658813\n",
      "\n",
      "\n",
      "-----------------------------------------------------------\n",
      "\n",
      "\n",
      "\n",
      "Model:  XG-Boost¶\n",
      "\n",
      "confusion matrix: \n",
      " [[28754   102]\n",
      " [ 1965  1094]]\n",
      "\n",
      "accuracy:  0.935234215885947\n",
      "\n",
      "classification report: \n",
      "               precision    recall  f1-score   support\n",
      "\n",
      "           0       0.94      1.00      0.97     28856\n",
      "           1       0.91      0.36      0.51      3059\n",
      "\n",
      "   micro avg       0.94      0.94      0.94     31915\n",
      "   macro avg       0.93      0.68      0.74     31915\n",
      "weighted avg       0.93      0.94      0.92     31915\n",
      "\n",
      "\n",
      "Area under ROC curve for validation set: 0.7768946011682453\n",
      "\n",
      "\n",
      "-----------------------------------------------------------\n",
      "\n",
      "\n",
      "\n"
     ]
    }
   ],
   "source": [
    "for md, i in zip(soup.find_all('h2'), \n",
    "                 soup.find_all('div', attrs={\"class\": \"output_subarea output_stream \"\\\n",
    "                                            \"output_stdout output_text\"})):\n",
    "    print(\"Model: \", md.get_text())\n",
    "    print(i.get_text())\n",
    "    print(\"-----------------------------------------------------------\\n\\n\\n\")"
   ]
  },
  {
   "cell_type": "code",
   "execution_count": 7,
   "id": "de8ecc59",
   "metadata": {},
   "outputs": [
    {
     "data": {
      "text/plain": [
       "<table>\n",
       "<tr>\n",
       "<th>name</th>\n",
       "<th>qualification</th>\n",
       "<th>additional qualification</th>\n",
       "<th>other qualification</th>\n",
       "</tr>\n",
       "<tr>\n",
       "<td>Gangaram</td>\n",
       "<td>B.Tech</td>\n",
       "<td>NA</td>\n",
       "<td>NA</td>\n",
       "</tr>\n",
       "<tr>\n",
       "<td>Ganga</td>\n",
       "<td>B.A.</td>\n",
       "<td>NA</td>\n",
       "<td>NA</td>\n",
       "</tr>\n",
       "<tr>\n",
       "<td>Ram</td>\n",
       "<td>B.Tech</td>\n",
       "<td>M.Tech</td>\n",
       "<td>NA</td>\n",
       "</tr>\n",
       "<tr>\n",
       "<td>Ramlal</td>\n",
       "<td>B.Music</td>\n",
       "<td>NA</td>\n",
       "<td>Diploma in Music</td>\n",
       "</tr>\n",
       "</table>"
      ]
     },
     "execution_count": 7,
     "metadata": {},
     "output_type": "execute_result"
    }
   ],
   "source": [
    "table = soup.find('table')\n",
    "table"
   ]
  },
  {
   "cell_type": "code",
   "execution_count": 8,
   "id": "542541a4",
   "metadata": {},
   "outputs": [
    {
     "name": "stdout",
     "output_type": "stream",
     "text": [
      "[]\n",
      "[<td>Gangaram</td>, <td>B.Tech</td>, <td>NA</td>, <td>NA</td>]\n",
      "[<td>Ganga</td>, <td>B.A.</td>, <td>NA</td>, <td>NA</td>]\n",
      "[<td>Ram</td>, <td>B.Tech</td>, <td>M.Tech</td>, <td>NA</td>]\n",
      "[<td>Ramlal</td>, <td>B.Music</td>, <td>NA</td>, <td>Diploma in Music</td>]\n"
     ]
    }
   ],
   "source": [
    "for row in table.find_all('tr'):\n",
    "    columns = row.find_all('td')\n",
    "    print(columns)"
   ]
  },
  {
   "cell_type": "code",
   "execution_count": 9,
   "id": "46071be9",
   "metadata": {},
   "outputs": [
    {
     "data": {
      "text/plain": [
       "<td>M.Tech</td>"
      ]
     },
     "execution_count": 9,
     "metadata": {},
     "output_type": "execute_result"
    }
   ],
   "source": [
    "table.find_all('tr')[3].find_all('td')[2]"
   ]
  },
  {
   "cell_type": "code",
   "execution_count": null,
   "id": "540adc31",
   "metadata": {},
   "outputs": [],
   "source": []
  }
 ],
 "metadata": {
  "kernelspec": {
   "display_name": "Python 3",
   "language": "python",
   "name": "python3"
  },
  "language_info": {
   "codemirror_mode": {
    "name": "ipython",
    "version": 3
   },
   "file_extension": ".py",
   "mimetype": "text/x-python",
   "name": "python",
   "nbconvert_exporter": "python",
   "pygments_lexer": "ipython3",
   "version": "3.8.8"
  }
 },
 "nbformat": 4,
 "nbformat_minor": 5
}
