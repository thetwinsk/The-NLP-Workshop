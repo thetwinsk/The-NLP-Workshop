{
 "cells": [
  {
   "cell_type": "code",
   "execution_count": 1,
   "id": "8dc447bb",
   "metadata": {},
   "outputs": [
    {
     "data": {
      "text/plain": [
       "<Element 'records' at 0x7f8843930e00>"
      ]
     },
     "execution_count": 1,
     "metadata": {},
     "output_type": "execute_result"
    }
   ],
   "source": [
    "import xml.etree.ElementTree as ET\n",
    "path = '/Users/kaylanguyen/Documents/TheNLPWorkshop/Chapter4/'\n",
    "tree = ET.parse(path + 'sample_xml_data.xml')\n",
    "root = tree.getroot()\n",
    "root"
   ]
  },
  {
   "cell_type": "code",
   "execution_count": 2,
   "id": "d9638cb4",
   "metadata": {},
   "outputs": [
    {
     "data": {
      "text/plain": [
       "'records'"
      ]
     },
     "execution_count": 2,
     "metadata": {},
     "output_type": "execute_result"
    }
   ],
   "source": [
    "root.tag"
   ]
  },
  {
   "cell_type": "code",
   "execution_count": 3,
   "id": "879b667c",
   "metadata": {},
   "outputs": [
    {
     "name": "stdout",
     "output_type": "stream",
     "text": [
      "Peter Brewer --- Erat Ltd\n",
      "Wallace Pace --- Sed Nunc Industries\n",
      "Arthur Ray --- Amet Faucibus Corp.\n",
      "Judah Vaughn --- Nunc Quis Arcu Inc.\n",
      "Talon Combs --- Leo Elementum Ltd\n",
      "Hall Bruce --- Proin Non Massa Consulting\n",
      "Ronan Grant --- Scelerisque Sed Inc.\n",
      "Dennis Whitaker --- Scelerisque Neque Foundation\n",
      "Bradley Oconnor --- Aliquet Corporation\n",
      "Forrest Alvarez --- Et Eros Institute\n",
      "Ignatius Meyers --- Facilisis Lorem Limited\n",
      "Bert Randolph --- Facilisis LLP\n",
      "Victor Stevenson --- Lacinia Vitae Sodales Incorporated\n",
      "Jamal Cummings --- Litora Ltd\n",
      "Samson Estrada --- Lacinia Vitae Sodales Industries\n",
      "Ira Spencer --- Duis Associates\n",
      "Kevin Henson --- Sagittis Limited\n",
      "Melvin Mccarthy --- Ipsum Suspendisse Company\n",
      "Kieran Underwood --- Quisque Porttitor Eros Ltd\n",
      "Cedric Phelps --- Lorem Vehicula Corp.\n"
     ]
    }
   ],
   "source": [
    "for record in root.findall('record')[:20]:\n",
    "    print(record.find('name').text, \"---\", record.find('company').text)"
   ]
  },
  {
   "cell_type": "code",
   "execution_count": 4,
   "id": "e6eebad0",
   "metadata": {},
   "outputs": [
    {
     "data": {
      "text/plain": [
       "745609"
      ]
     },
     "execution_count": 4,
     "metadata": {},
     "output_type": "execute_result"
    }
   ],
   "source": [
    "sum([int(record.find('salary').text.replace('$','').replace(',',''))\n",
    "     for record in root.findall('record')])"
   ]
  },
  {
   "cell_type": "code",
   "execution_count": null,
   "id": "b89a5340",
   "metadata": {},
   "outputs": [],
   "source": []
  }
 ],
 "metadata": {
  "kernelspec": {
   "display_name": "Python 3",
   "language": "python",
   "name": "python3"
  },
  "language_info": {
   "codemirror_mode": {
    "name": "ipython",
    "version": 3
   },
   "file_extension": ".py",
   "mimetype": "text/x-python",
   "name": "python",
   "nbconvert_exporter": "python",
   "pygments_lexer": "ipython3",
   "version": "3.8.8"
  }
 },
 "nbformat": 4,
 "nbformat_minor": 5
}
