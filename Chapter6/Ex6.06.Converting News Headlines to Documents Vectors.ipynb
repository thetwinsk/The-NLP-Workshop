{
 "cells": [
  {
   "cell_type": "code",
   "execution_count": 1,
   "id": "7658e08e",
   "metadata": {},
   "outputs": [
    {
     "name": "stderr",
     "output_type": "stream",
     "text": [
      "/opt/anaconda3/lib/python3.8/site-packages/gensim/similarities/__init__.py:15: UserWarning: The gensim.similarities.levenshtein submodule is disabled, because the optional Levenshtein package <https://pypi.org/project/python-Levenshtein/> is unavailable. Install Levenhstein (e.g. `pip install python-Levenshtein`) to suppress this warning.\n",
      "  warnings.warn(msg)\n"
     ]
    }
   ],
   "source": [
    "import pandas as pd\n",
    "from gensim import utils\n",
    "from gensim.models.doc2vec import TaggedDocument\n",
    "from gensim.models import Doc2Vec\n",
    "from gensim.parsing.preprocessing import preprocess_string, remove_stopwords\n",
    "import random\n",
    "import warnings\n",
    "warnings.filterwarnings(\"ignore\")"
   ]
  },
  {
   "cell_type": "code",
   "execution_count": 2,
   "id": "e5bd6abe",
   "metadata": {},
   "outputs": [],
   "source": [
    "sample_news_data = '/Users/kaylanguyen/Documents/TheNLPWorkshop/Chapter6/sample_news_data.txt'"
   ]
  },
  {
   "cell_type": "code",
   "execution_count": 3,
   "id": "6034bd8b",
   "metadata": {},
   "outputs": [],
   "source": [
    "with open(sample_news_data, encoding='utf-8', errors='ignore') as f:\n",
    "    news_lines = [line for line in f.readlines()]"
   ]
  },
  {
   "cell_type": "code",
   "execution_count": 4,
   "id": "d3127f21",
   "metadata": {},
   "outputs": [],
   "source": [
    "lines_df = pd.DataFrame()\n",
    "indices = list(range(len(news_lines)))\n",
    "lines_df['news'] = news_lines\n",
    "lines_df['index'] = indices"
   ]
  },
  {
   "cell_type": "code",
   "execution_count": 5,
   "id": "1e71c2c5",
   "metadata": {},
   "outputs": [
    {
     "data": {
      "text/html": [
       "<div>\n",
       "<style scoped>\n",
       "    .dataframe tbody tr th:only-of-type {\n",
       "        vertical-align: middle;\n",
       "    }\n",
       "\n",
       "    .dataframe tbody tr th {\n",
       "        vertical-align: top;\n",
       "    }\n",
       "\n",
       "    .dataframe thead th {\n",
       "        text-align: right;\n",
       "    }\n",
       "</style>\n",
       "<table border=\"1\" class=\"dataframe\">\n",
       "  <thead>\n",
       "    <tr style=\"text-align: right;\">\n",
       "      <th></th>\n",
       "      <th>news</th>\n",
       "      <th>index</th>\n",
       "    </tr>\n",
       "  </thead>\n",
       "  <tbody>\n",
       "    <tr>\n",
       "      <th>0</th>\n",
       "      <td>Top of the Pops leaves BBC One The BBC flagshi...</td>\n",
       "      <td>0</td>\n",
       "    </tr>\n",
       "    <tr>\n",
       "      <th>1</th>\n",
       "      <td>Oscars race enters final furlong The race for ...</td>\n",
       "      <td>1</td>\n",
       "    </tr>\n",
       "    <tr>\n",
       "      <th>2</th>\n",
       "      <td>US TV special for tsunami relief A US televisi...</td>\n",
       "      <td>2</td>\n",
       "    </tr>\n",
       "    <tr>\n",
       "      <th>3</th>\n",
       "      <td>Singer Ian Brown gig Former Stone Roses singer...</td>\n",
       "      <td>3</td>\n",
       "    </tr>\n",
       "    <tr>\n",
       "      <th>4</th>\n",
       "      <td>Housewives lift Channel ratings The debut of U...</td>\n",
       "      <td>4</td>\n",
       "    </tr>\n",
       "  </tbody>\n",
       "</table>\n",
       "</div>"
      ],
      "text/plain": [
       "                                                news  index\n",
       "0  Top of the Pops leaves BBC One The BBC flagshi...      0\n",
       "1  Oscars race enters final furlong The race for ...      1\n",
       "2  US TV special for tsunami relief A US televisi...      2\n",
       "3  Singer Ian Brown gig Former Stone Roses singer...      3\n",
       "4  Housewives lift Channel ratings The debut of U...      4"
      ]
     },
     "execution_count": 5,
     "metadata": {},
     "output_type": "execute_result"
    }
   ],
   "source": [
    "lines_df.head()"
   ]
  },
  {
   "cell_type": "code",
   "execution_count": 8,
   "id": "9ad7bae2",
   "metadata": {},
   "outputs": [],
   "source": [
    "class DocumentDataset(object):\n",
    "    def __init__(self, data:pd.DataFrame, column):\n",
    "        document = data[column].apply(self.preprocess)\n",
    "        self.documents = [TaggedDocument(text, [index]) for index, text in document.iteritems()]\n",
    "    \n",
    "    def preprocess(self, document):\n",
    "        return preprocess_string(remove_stopwords(document))\n",
    "    \n",
    "    def __iter__(self):\n",
    "        for document in self.documents:\n",
    "            yield document\n",
    "            \n",
    "    def tagged_documents(self, shuffle=False):\n",
    "        if shuffle:\n",
    "            random.shuffle(self.documents)\n",
    "        return self.documents"
   ]
  },
  {
   "cell_type": "code",
   "execution_count": 9,
   "id": "84849bcf",
   "metadata": {},
   "outputs": [],
   "source": [
    "documents_dataset = DocumentDataset(lines_df, 'news')"
   ]
  },
  {
   "cell_type": "code",
   "execution_count": null,
   "id": "8ef99c3d",
   "metadata": {},
   "outputs": [],
   "source": [
    "docVecModel = Doc2Vec(min_count=1, window=5, vector_size=100, sample=1e-4, negative=5,\n",
    "                     workers=8)\n",
    "docVecModel.build_vocab(documents_dataset.tagged_documents())"
   ]
  },
  {
   "cell_type": "markdown",
   "id": "9e8482fb",
   "metadata": {},
   "source": [
    ">**epochs** represents the **total number of records** required to train the document."
   ]
  },
  {
   "cell_type": "code",
   "execution_count": 11,
   "id": "d8eefc3e",
   "metadata": {},
   "outputs": [],
   "source": [
    "docVecModel.train(documents_dataset.tagged_documents(shuffle=True), \n",
    "                  total_examples=docVecModel.corpus_count, epochs=10)"
   ]
  },
  {
   "cell_type": "code",
   "execution_count": 12,
   "id": "0017f767",
   "metadata": {},
   "outputs": [],
   "source": [
    "docVecModel.save('/Users/kaylanguyen/Documents/TheNLPWorkshop/Chapter6/docVecModel.d2v')"
   ]
  },
  {
   "cell_type": "code",
   "execution_count": 13,
   "id": "5f7b2158",
   "metadata": {},
   "outputs": [
    {
     "data": {
      "text/plain": [
       "array([-4.4119456e-01,  3.7332022e-01,  8.2436258e-01,  9.7008318e-02,\n",
       "       -3.1727090e-01, -6.3771087e-01, -2.4199288e-01, -3.7163508e-01,\n",
       "       -6.5547472e-01, -3.8436061e-01, -4.0369830e-01, -5.9078544e-01,\n",
       "       -5.1613189e-02,  3.2425022e-01,  3.3887935e-01, -4.1455948e-01,\n",
       "        3.3572715e-02, -5.9851176e-01,  3.3235991e-01, -9.6054226e-01,\n",
       "        5.2745008e-01, -9.8594673e-02,  4.8267819e-02, -2.2404134e-01,\n",
       "        9.7304434e-02, -2.9418582e-01, -3.4232408e-01, -2.5893512e-01,\n",
       "       -4.1977923e-02,  6.7904435e-02,  6.1612833e-01,  4.6705279e-01,\n",
       "       -3.6668345e-02, -6.3991182e-02,  6.7446493e-02,  2.7359533e-01,\n",
       "        5.4306376e-01, -4.6032771e-01,  5.0250095e-01, -6.0711783e-01,\n",
       "        1.2516390e-02, -2.2051679e-01, -6.3590318e-01, -2.3276877e-01,\n",
       "       -4.3294375e-04, -4.5683491e-01,  3.1686911e-01,  2.4531685e-01,\n",
       "        3.7811375e-01,  2.6698855e-01,  3.6586699e-01, -6.5099615e-01,\n",
       "        1.3382141e-02, -1.9847308e-01,  8.6519912e-02,  2.2927199e-01,\n",
       "        2.1915841e-01,  2.6927212e-01,  2.8872055e-01,  2.9668978e-01,\n",
       "        1.3798428e-01,  5.3259194e-01, -5.9623635e-01,  3.2390577e-01,\n",
       "        5.4099870e-01,  3.2759327e-01,  9.7283587e-02, -6.0004741e-01,\n",
       "       -6.5323460e-01,  3.0596676e-01, -8.3667010e-02,  1.8625996e-01,\n",
       "        5.1575327e-01, -4.5924297e-01,  3.3791149e-01,  2.0064174e-01,\n",
       "       -2.0892832e-01, -9.4466381e-02, -1.5789272e-01, -1.8897162e-01,\n",
       "        8.4279276e-02,  2.2678643e-01, -4.1988137e-01,  4.3137762e-01,\n",
       "       -5.6086612e-01,  2.5640029e-01, -9.6554446e-01, -1.3820289e-01,\n",
       "        7.0980167e-01, -3.9080109e-02,  1.6762982e-01,  3.2179046e-01,\n",
       "        2.2112457e-01, -1.6657828e-01,  5.2890474e-01, -1.0275166e-01,\n",
       "        6.0166448e-01, -7.7426165e-01,  4.4720945e-01,  5.3703880e-01],\n",
       "      dtype=float32)"
      ]
     },
     "execution_count": 13,
     "metadata": {},
     "output_type": "execute_result"
    }
   ],
   "source": [
    "#find the doc vector of index 657\n",
    "docVecModel[657]"
   ]
  },
  {
   "cell_type": "code",
   "execution_count": 19,
   "id": "1739667b",
   "metadata": {},
   "outputs": [],
   "source": [
    "import matplotlib.pyplot as plt\n",
    "def show_image(vector, line):\n",
    "    fig, ax = plt.subplots(1, 1, figsize=(10,2))\n",
    "    ax.tick_params(axis='both',\n",
    "                   which='both',\n",
    "                   left=False,\n",
    "                   bottom=False,\n",
    "                   top=False,\n",
    "                   labelleft=False,\n",
    "                   labelbottom=False)\n",
    "    ax.grid(False)\n",
    "    print(line)\n",
    "    ax.bar(range(len(vector)), vector, 0.5)\n",
    "\n",
    "def show_news_lines(line_number):\n",
    "    line = lines_df[lines_df.index==line_number].news\n",
    "    doc_vector = docVecModel[line_number]\n",
    "    show_image(doc_vector, line)"
   ]
  },
  {
   "cell_type": "code",
   "execution_count": 20,
   "id": "1c6ac11f",
   "metadata": {},
   "outputs": [
    {
     "name": "stdout",
     "output_type": "stream",
     "text": [
      "872    Jobs go at Oracle after takeover Oracle has an...\n",
      "Name: news, dtype: object\n"
     ]
    },
    {
     "data": {
      "image/png": "[encoded data removed]",
      "text/plain": [
       "<Figure size 720x144 with 1 Axes>"
      ]
     },
     "metadata": {},
     "output_type": "display_data"
    }
   ],
   "source": [
    "show_news_lines(872)"
   ]
  },
  {
   "cell_type": "code",
   "execution_count": null,
   "id": "f104e622",
   "metadata": {},
   "outputs": [],
   "source": []
  }
 ],
 "metadata": {
  "kernelspec": {
   "display_name": "Python 3",
   "language": "python",
   "name": "python3"
  },
  "language_info": {
   "codemirror_mode": {
    "name": "ipython",
    "version": 3
   },
   "file_extension": ".py",
   "mimetype": "text/x-python",
   "name": "python",
   "nbconvert_exporter": "python",
   "pygments_lexer": "ipython3",
   "version": "3.8.8"
  }
 },
 "nbformat": 4,
 "nbformat_minor": 5
}
