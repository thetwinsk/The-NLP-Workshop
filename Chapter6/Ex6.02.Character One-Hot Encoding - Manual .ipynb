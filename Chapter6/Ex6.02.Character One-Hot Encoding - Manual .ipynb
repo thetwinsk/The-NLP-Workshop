{
 "cells": [
  {
   "cell_type": "code",
   "execution_count": 3,
   "id": "246929d1",
   "metadata": {},
   "outputs": [],
   "source": [
    "def onehot_word(word):\n",
    "    lookup = {v[1]: v[0] for v in enumerate(set(word))}\n",
    "    word_vector = []\n",
    "    for c in word:\n",
    "        one_hot_vector = [0] * len(lookup)\n",
    "        one_hot_vector[lookup[c]] = 1\n",
    "        word_vector.append(one_hot_vector)\n",
    "    return word_vector"
   ]
  },
  {
   "cell_type": "code",
   "execution_count": 4,
   "id": "766da4d0",
   "metadata": {},
   "outputs": [
    {
     "name": "stdout",
     "output_type": "stream",
     "text": [
      "[[0, 0, 1], [1, 0, 0], [0, 1, 0], [1, 0, 0]]\n"
     ]
    }
   ],
   "source": [
    "onehot_vector = onehot_word('data')\n",
    "print(onehot_vector)"
   ]
  },
  {
   "cell_type": "code",
   "execution_count": null,
   "id": "134c3139",
   "metadata": {},
   "outputs": [],
   "source": []
  }
 ],
 "metadata": {
  "kernelspec": {
   "display_name": "Python 3",
   "language": "python",
   "name": "python3"
  },
  "language_info": {
   "codemirror_mode": {
    "name": "ipython",
    "version": 3
   },
   "file_extension": ".py",
   "mimetype": "text/x-python",
   "name": "python",
   "nbconvert_exporter": "python",
   "pygments_lexer": "ipython3",
   "version": "3.8.8"
  }
 },
 "nbformat": 4,
 "nbformat_minor": 5
}
