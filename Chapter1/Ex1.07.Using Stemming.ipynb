{
 "cells": [
  {
   "cell_type": "code",
   "execution_count": 1,
   "id": "174be516",
   "metadata": {},
   "outputs": [],
   "source": [
    "from nltk import stem"
   ]
  },
  {
   "cell_type": "code",
   "execution_count": 2,
   "id": "422a0ee1",
   "metadata": {},
   "outputs": [
    {
     "data": {
      "text/plain": [
       "'product'"
      ]
     },
     "execution_count": 2,
     "metadata": {},
     "output_type": "execute_result"
    }
   ],
   "source": [
    "def get_stems(word, stemmer):\n",
    "    return stemmer.stem(word)\n",
    "porterStem = stem.PorterStemmer()\n",
    "get_stems(\"production\", porterStem)   "
   ]
  },
  {
   "cell_type": "code",
   "execution_count": 5,
   "id": "48b903fc",
   "metadata": {},
   "outputs": [
    {
     "data": {
      "text/plain": [
       "'come'"
      ]
     },
     "execution_count": 5,
     "metadata": {},
     "output_type": "execute_result"
    }
   ],
   "source": [
    "get_stems(\"coming\", porterStem)"
   ]
  },
  {
   "cell_type": "code",
   "execution_count": 6,
   "id": "22024ea4",
   "metadata": {},
   "outputs": [
    {
     "data": {
      "text/plain": [
       "'fire'"
      ]
     },
     "execution_count": 6,
     "metadata": {},
     "output_type": "execute_result"
    }
   ],
   "source": [
    "get_stems(\"firing\", porterStem)"
   ]
  },
  {
   "cell_type": "code",
   "execution_count": 7,
   "id": "64e6eb1a",
   "metadata": {},
   "outputs": [
    {
     "data": {
      "text/plain": [
       "'battl'"
      ]
     },
     "execution_count": 7,
     "metadata": {},
     "output_type": "execute_result"
    }
   ],
   "source": [
    "get_stems(\"battling\", porterStem)"
   ]
  },
  {
   "cell_type": "code",
   "execution_count": 8,
   "id": "eab79725",
   "metadata": {},
   "outputs": [
    {
     "data": {
      "text/plain": [
       "'battl'"
      ]
     },
     "execution_count": 8,
     "metadata": {},
     "output_type": "execute_result"
    }
   ],
   "source": [
    "stemmer = stem.SnowballStemmer(\"english\")\n",
    "get_stems(\"battling\", stemmer)"
   ]
  },
  {
   "cell_type": "code",
   "execution_count": null,
   "id": "ae04686e",
   "metadata": {},
   "outputs": [],
   "source": []
  }
 ],
 "metadata": {
  "kernelspec": {
   "display_name": "Python 3",
   "language": "python",
   "name": "python3"
  },
  "language_info": {
   "codemirror_mode": {
    "name": "ipython",
    "version": 3
   },
   "file_extension": ".py",
   "mimetype": "text/x-python",
   "name": "python",
   "nbconvert_exporter": "python",
   "pygments_lexer": "ipython3",
   "version": "3.8.8"
  }
 },
 "nbformat": 4,
 "nbformat_minor": 5
}
