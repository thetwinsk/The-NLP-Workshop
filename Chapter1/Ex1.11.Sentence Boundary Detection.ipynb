{
 "cells": [
  {
   "cell_type": "code",
   "execution_count": 1,
   "id": "5606dd7d",
   "metadata": {},
   "outputs": [],
   "source": [
    "import nltk\n",
    "from nltk.tokenize import sent_tokenize"
   ]
  },
  {
   "cell_type": "code",
   "execution_count": 2,
   "id": "7af3ce30",
   "metadata": {},
   "outputs": [
    {
     "data": {
      "text/plain": [
       "['We are reading a book.',\n",
       " 'Do you know who is the publisher?',\n",
       " 'Packt is based out of Birmingham.']"
      ]
     },
     "execution_count": 2,
     "metadata": {},
     "output_type": "execute_result"
    }
   ],
   "source": [
    "def get_sentences(text):\n",
    "    return sent_tokenize(text)\n",
    "get_sentences(\"We are reading a book. Do you know who is the publisher? Packt is based out of Birmingham.\")"
   ]
  },
  {
   "cell_type": "code",
   "execution_count": 4,
   "id": "0e048d16",
   "metadata": {},
   "outputs": [
    {
     "data": {
      "text/plain": [
       "['Mr. Donald Trump is the current president of the USA.',\n",
       " 'Before joining politics, he was a businessman.']"
      ]
     },
     "execution_count": 4,
     "metadata": {},
     "output_type": "execute_result"
    }
   ],
   "source": [
    "get_sentences(\"Mr. Donald Trump is the current president of the USA. \"\\\n",
    "             \"Before joining politics, he was a businessman.\")"
   ]
  },
  {
   "cell_type": "code",
   "execution_count": null,
   "id": "e10d2ba9",
   "metadata": {},
   "outputs": [],
   "source": []
  }
 ],
 "metadata": {
  "kernelspec": {
   "display_name": "Python 3",
   "language": "python",
   "name": "python3"
  },
  "language_info": {
   "codemirror_mode": {
    "name": "ipython",
    "version": 3
   },
   "file_extension": ".py",
   "mimetype": "text/x-python",
   "name": "python",
   "nbconvert_exporter": "python",
   "pygments_lexer": "ipython3",
   "version": "3.8.8"
  }
 },
 "nbformat": 4,
 "nbformat_minor": 5
}
