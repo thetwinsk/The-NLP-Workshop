{
 "cells": [
  {
   "cell_type": "markdown",
   "id": "0af1374c",
   "metadata": {},
   "source": [
    "### 1. Import the necessary libraries."
   ]
  },
  {
   "cell_type": "code",
   "execution_count": 1,
   "id": "93c1a9a9",
   "metadata": {},
   "outputs": [],
   "source": [
    "import pandas as pd\n",
    "pd.set_option('display.max_colwidth', 200)"
   ]
  },
  {
   "cell_type": "markdown",
   "id": "95d8ee93",
   "metadata": {},
   "source": [
    "### 2. Load the Amazon, Yelp, and IMDb datasets."
   ]
  },
  {
   "cell_type": "code",
   "execution_count": 2,
   "id": "7fc539b3",
   "metadata": {},
   "outputs": [
    {
     "name": "stdout",
     "output_type": "stream",
     "text": [
      "/Users/kaylanguyen/Documents/TheNLPWorkshop/Chapter8\n"
     ]
    }
   ],
   "source": [
    "%cd /Users/kaylanguyen/Documents/TheNLPWorkshop/Chapter8/"
   ]
  },
  {
   "cell_type": "code",
   "execution_count": 3,
   "id": "6be9d240",
   "metadata": {},
   "outputs": [],
   "source": [
    "IMDB_DATA_FILE = 'imdb_labelled.txt'\n",
    "YELP_DATA_FILE = 'imdb_labelled.txt'\n",
    "AMAZON_DATA_FILE = 'amazon_cells_labelled.txt'"
   ]
  },
  {
   "cell_type": "code",
   "execution_count": 4,
   "id": "01310966",
   "metadata": {},
   "outputs": [],
   "source": [
    "COLUMN_NAMES = ['Review', 'Sentiment']"
   ]
  },
  {
   "cell_type": "code",
   "execution_count": 5,
   "id": "3d342594",
   "metadata": {},
   "outputs": [
    {
     "data": {
      "text/plain": [
       "(748, 2)"
      ]
     },
     "execution_count": 5,
     "metadata": {},
     "output_type": "execute_result"
    }
   ],
   "source": [
    "imdb_reviews = pd.read_table(IMDB_DATA_FILE, names=COLUMN_NAMES)\n",
    "imdb_reviews.shape"
   ]
  },
  {
   "cell_type": "code",
   "execution_count": 6,
   "id": "2d6216ce",
   "metadata": {},
   "outputs": [
    {
     "data": {
      "text/plain": [
       "(1000, 2)"
      ]
     },
     "execution_count": 6,
     "metadata": {},
     "output_type": "execute_result"
    }
   ],
   "source": [
    "amazon_reviews = pd.read_table(AMAZON_DATA_FILE, names=COLUMN_NAMES)\n",
    "amazon_reviews.shape"
   ]
  },
  {
   "cell_type": "code",
   "execution_count": 7,
   "id": "191d887b",
   "metadata": {},
   "outputs": [
    {
     "data": {
      "text/plain": [
       "(748, 2)"
      ]
     },
     "execution_count": 7,
     "metadata": {},
     "output_type": "execute_result"
    }
   ],
   "source": [
    "yelp_reviews = pd.read_table(YELP_DATA_FILE, names=COLUMN_NAMES)\n",
    "yelp_reviews.shape"
   ]
  },
  {
   "cell_type": "markdown",
   "id": "ed496bb3",
   "metadata": {},
   "source": [
    "### 3. Concatenate the datasets and take out a random sample of 10 items "
   ]
  },
  {
   "cell_type": "code",
   "execution_count": 8,
   "id": "c4d86675",
   "metadata": {},
   "outputs": [
    {
     "data": {
      "text/plain": [
       "(2496, 2)"
      ]
     },
     "execution_count": 8,
     "metadata": {},
     "output_type": "execute_result"
    }
   ],
   "source": [
    "all_datasets = [imdb_reviews, amazon_reviews, yelp_reviews]\n",
    "data = pd.concat(all_datasets)\n",
    "data.shape"
   ]
  },
  {
   "cell_type": "code",
   "execution_count": 9,
   "id": "4f9266f0",
   "metadata": {},
   "outputs": [
    {
     "data": {
      "text/html": [
       "<div>\n",
       "<style scoped>\n",
       "    .dataframe tbody tr th:only-of-type {\n",
       "        vertical-align: middle;\n",
       "    }\n",
       "\n",
       "    .dataframe tbody tr th {\n",
       "        vertical-align: top;\n",
       "    }\n",
       "\n",
       "    .dataframe thead th {\n",
       "        text-align: right;\n",
       "    }\n",
       "</style>\n",
       "<table border=\"1\" class=\"dataframe\">\n",
       "  <thead>\n",
       "    <tr style=\"text-align: right;\">\n",
       "      <th></th>\n",
       "      <th>Review</th>\n",
       "      <th>Sentiment</th>\n",
       "    </tr>\n",
       "  </thead>\n",
       "  <tbody>\n",
       "    <tr>\n",
       "      <th>728</th>\n",
       "      <td>Judith Light is one of my favorite actresses and I think she does a superb job in this film!</td>\n",
       "      <td>1</td>\n",
       "    </tr>\n",
       "    <tr>\n",
       "      <th>729</th>\n",
       "      <td>I keep watching it over and over.</td>\n",
       "      <td>1</td>\n",
       "    </tr>\n",
       "    <tr>\n",
       "      <th>730</th>\n",
       "      <td>It's a sad movie, but very good.</td>\n",
       "      <td>1</td>\n",
       "    </tr>\n",
       "    <tr>\n",
       "      <th>731</th>\n",
       "      <td>If you have not seen this movie, I definitely recommend it!</td>\n",
       "      <td>1</td>\n",
       "    </tr>\n",
       "    <tr>\n",
       "      <th>732</th>\n",
       "      <td>She is as lovely as usual, this cutie!</td>\n",
       "      <td>1</td>\n",
       "    </tr>\n",
       "    <tr>\n",
       "      <th>733</th>\n",
       "      <td>Still it's quite interesting and entertaining to follow.</td>\n",
       "      <td>1</td>\n",
       "    </tr>\n",
       "    <tr>\n",
       "      <th>734</th>\n",
       "      <td>;) Recommend with confidence!</td>\n",
       "      <td>1</td>\n",
       "    </tr>\n",
       "    <tr>\n",
       "      <th>735</th>\n",
       "      <td>This movie is well-balanced with comedy and drama and I thoroughly enjoyed myself.</td>\n",
       "      <td>1</td>\n",
       "    </tr>\n",
       "    <tr>\n",
       "      <th>736</th>\n",
       "      <td>It was a riot to see Hugo Weaving play a sex-obsessed gay real estate salesman who uses his clients' houses for his trysts with the flaming Darren (Tom Hollander).</td>\n",
       "      <td>1</td>\n",
       "    </tr>\n",
       "    <tr>\n",
       "      <th>737</th>\n",
       "      <td>:) Anyway, the plot flowed smoothly and the male-bonding scenes were a hoot.</td>\n",
       "      <td>1</td>\n",
       "    </tr>\n",
       "    <tr>\n",
       "      <th>738</th>\n",
       "      <td>The opening sequence of this gem is a classic, and the cat n mouse games that follow are a delight to watch.</td>\n",
       "      <td>1</td>\n",
       "    </tr>\n",
       "    <tr>\n",
       "      <th>739</th>\n",
       "      <td>Fans of the genre will be in heaven.</td>\n",
       "      <td>1</td>\n",
       "    </tr>\n",
       "    <tr>\n",
       "      <th>740</th>\n",
       "      <td>Lange had become a great actress.</td>\n",
       "      <td>1</td>\n",
       "    </tr>\n",
       "    <tr>\n",
       "      <th>741</th>\n",
       "      <td>It looked like a wonderful story.</td>\n",
       "      <td>1</td>\n",
       "    </tr>\n",
       "    <tr>\n",
       "      <th>742</th>\n",
       "      <td>I never walked out of a movie faster.</td>\n",
       "      <td>0</td>\n",
       "    </tr>\n",
       "    <tr>\n",
       "      <th>743</th>\n",
       "      <td>I just got bored watching Jessice Lange take her clothes off!</td>\n",
       "      <td>0</td>\n",
       "    </tr>\n",
       "    <tr>\n",
       "      <th>744</th>\n",
       "      <td>Unfortunately, any virtue in this film's production work was lost on a regrettable script.</td>\n",
       "      <td>0</td>\n",
       "    </tr>\n",
       "    <tr>\n",
       "      <th>745</th>\n",
       "      <td>In a word, it is embarrassing.</td>\n",
       "      <td>0</td>\n",
       "    </tr>\n",
       "    <tr>\n",
       "      <th>746</th>\n",
       "      <td>Exceptionally bad!</td>\n",
       "      <td>0</td>\n",
       "    </tr>\n",
       "    <tr>\n",
       "      <th>747</th>\n",
       "      <td>All in all its an insult to one's intelligence and a huge waste of money.</td>\n",
       "      <td>0</td>\n",
       "    </tr>\n",
       "  </tbody>\n",
       "</table>\n",
       "</div>"
      ],
      "text/plain": [
       "                                                                                                                                                                    Review  \\\n",
       "728                                                                         Judith Light is one of my favorite actresses and I think she does a superb job in this film!     \n",
       "729                                                                                                                                    I keep watching it over and over.     \n",
       "730                                                                                                                                     It's a sad movie, but very good.     \n",
       "731                                                                                                          If you have not seen this movie, I definitely recommend it!     \n",
       "732                                                                                                                               She is as lovely as usual, this cutie!     \n",
       "733                                                                                                             Still it's quite interesting and entertaining to follow.     \n",
       "734                                                                                                                                        ;) Recommend with confidence!     \n",
       "735                                                                                   This movie is well-balanced with comedy and drama and I thoroughly enjoyed myself.     \n",
       "736  It was a riot to see Hugo Weaving play a sex-obsessed gay real estate salesman who uses his clients' houses for his trysts with the flaming Darren (Tom Hollander).     \n",
       "737                                                                                         :) Anyway, the plot flowed smoothly and the male-bonding scenes were a hoot.     \n",
       "738                                                         The opening sequence of this gem is a classic, and the cat n mouse games that follow are a delight to watch.     \n",
       "739                                                                                                                                 Fans of the genre will be in heaven.     \n",
       "740                                                                                                                                    Lange had become a great actress.     \n",
       "741                                                                                                                                    It looked like a wonderful story.     \n",
       "742                                                                                                                                I never walked out of a movie faster.     \n",
       "743                                                                                                        I just got bored watching Jessice Lange take her clothes off!     \n",
       "744                                                                           Unfortunately, any virtue in this film's production work was lost on a regrettable script.     \n",
       "745                                                                                                                                       In a word, it is embarrassing.     \n",
       "746                                                                                                                                                   Exceptionally bad!     \n",
       "747                                                                                            All in all its an insult to one's intelligence and a huge waste of money.     \n",
       "\n",
       "     Sentiment  \n",
       "728          1  \n",
       "729          1  \n",
       "730          1  \n",
       "731          1  \n",
       "732          1  \n",
       "733          1  \n",
       "734          1  \n",
       "735          1  \n",
       "736          1  \n",
       "737          1  \n",
       "738          1  \n",
       "739          1  \n",
       "740          1  \n",
       "741          1  \n",
       "742          0  \n",
       "743          0  \n",
       "744          0  \n",
       "745          0  \n",
       "746          0  \n",
       "747          0  "
      ]
     },
     "execution_count": 9,
     "metadata": {},
     "output_type": "execute_result"
    }
   ],
   "source": [
    "data.tail(20)"
   ]
  },
  {
   "cell_type": "code",
   "execution_count": 10,
   "id": "cc71bad7",
   "metadata": {},
   "outputs": [
    {
     "data": {
      "text/html": [
       "<div>\n",
       "<style scoped>\n",
       "    .dataframe tbody tr th:only-of-type {\n",
       "        vertical-align: middle;\n",
       "    }\n",
       "\n",
       "    .dataframe tbody tr th {\n",
       "        vertical-align: top;\n",
       "    }\n",
       "\n",
       "    .dataframe thead th {\n",
       "        text-align: right;\n",
       "    }\n",
       "</style>\n",
       "<table border=\"1\" class=\"dataframe\">\n",
       "  <thead>\n",
       "    <tr style=\"text-align: right;\">\n",
       "      <th></th>\n",
       "      <th>Review</th>\n",
       "      <th>Sentiment</th>\n",
       "    </tr>\n",
       "  </thead>\n",
       "  <tbody>\n",
       "    <tr>\n",
       "      <th>33</th>\n",
       "      <td>I have two more years left in this contract and I hate this phone.</td>\n",
       "      <td>0</td>\n",
       "    </tr>\n",
       "    <tr>\n",
       "      <th>896</th>\n",
       "      <td>Great phone.</td>\n",
       "      <td>1</td>\n",
       "    </tr>\n",
       "    <tr>\n",
       "      <th>174</th>\n",
       "      <td>The file browser offers all the options that one needs.Handsfree is great.</td>\n",
       "      <td>1</td>\n",
       "    </tr>\n",
       "    <tr>\n",
       "      <th>22</th>\n",
       "      <td>Overall, the film is interesting and thought-provoking.</td>\n",
       "      <td>1</td>\n",
       "    </tr>\n",
       "    <tr>\n",
       "      <th>195</th>\n",
       "      <td>Having to humour him just to get by and get through the day was so apt.</td>\n",
       "      <td>1</td>\n",
       "    </tr>\n",
       "    <tr>\n",
       "      <th>666</th>\n",
       "      <td>I agree with Jessica, this movie is pretty bad.</td>\n",
       "      <td>0</td>\n",
       "    </tr>\n",
       "    <tr>\n",
       "      <th>154</th>\n",
       "      <td>It is shameful.</td>\n",
       "      <td>0</td>\n",
       "    </tr>\n",
       "    <tr>\n",
       "      <th>62</th>\n",
       "      <td>These headphones were a great find - and I think they are perhaps the best purchase I've made in the last several years - seriously.</td>\n",
       "      <td>1</td>\n",
       "    </tr>\n",
       "    <tr>\n",
       "      <th>414</th>\n",
       "      <td>After a year the battery went completely dead on my headset.</td>\n",
       "      <td>0</td>\n",
       "    </tr>\n",
       "    <tr>\n",
       "      <th>157</th>\n",
       "      <td>I must say I have taped most of the episodes and i find myself watching them over and over again.</td>\n",
       "      <td>1</td>\n",
       "    </tr>\n",
       "  </tbody>\n",
       "</table>\n",
       "</div>"
      ],
      "text/plain": [
       "                                                                                                                                   Review  \\\n",
       "33                                                                     I have two more years left in this contract and I hate this phone.   \n",
       "896                                                                                                                          Great phone.   \n",
       "174                                                            The file browser offers all the options that one needs.Handsfree is great.   \n",
       "22                                                                              Overall, the film is interesting and thought-provoking.     \n",
       "195                                                             Having to humour him just to get by and get through the day was so apt.     \n",
       "666                                                                                     I agree with Jessica, this movie is pretty bad.     \n",
       "154                                                                                                                     It is shameful.     \n",
       "62   These headphones were a great find - and I think they are perhaps the best purchase I've made in the last several years - seriously.   \n",
       "414                                                                          After a year the battery went completely dead on my headset.   \n",
       "157                                   I must say I have taped most of the episodes and i find myself watching them over and over again.     \n",
       "\n",
       "     Sentiment  \n",
       "33           0  \n",
       "896          1  \n",
       "174          1  \n",
       "22           1  \n",
       "195          1  \n",
       "666          0  \n",
       "154          0  \n",
       "62           1  \n",
       "414          0  \n",
       "157          1  "
      ]
     },
     "execution_count": 10,
     "metadata": {},
     "output_type": "execute_result"
    }
   ],
   "source": [
    "data.sample(10)"
   ]
  },
  {
   "cell_type": "code",
   "execution_count": 11,
   "id": "f672981e",
   "metadata": {},
   "outputs": [
    {
     "data": {
      "text/plain": [
       "1    1272\n",
       "0    1224\n",
       "Name: Sentiment, dtype: int64"
      ]
     },
     "execution_count": 11,
     "metadata": {},
     "output_type": "execute_result"
    }
   ],
   "source": [
    "data.Sentiment.value_counts()"
   ]
  },
  {
   "cell_type": "markdown",
   "id": "37c25abb",
   "metadata": {},
   "source": [
    "### 4. Create a function for preprocessing the text, that is, convert the words into lowercase and normalize them."
   ]
  },
  {
   "cell_type": "code",
   "execution_count": 12,
   "id": "b02a7b5c",
   "metadata": {},
   "outputs": [],
   "source": [
    "import re\n",
    "\n",
    "def clean(text):\n",
    "    text = re.sub(r'[\\W]+', ' ', text.lower())\n",
    "    text = text.replace('hadn t' , 'had not')\\\n",
    "               .replace('wasn t', 'was not')\\\n",
    "               .replace('didn t', 'did not').replace('wouldn t', 'would not')\n",
    "    return text"
   ]
  },
  {
   "cell_type": "markdown",
   "id": "e91e00ff",
   "metadata": {},
   "source": [
    "### 5. Apply the function created in the previous step on the dataset."
   ]
  },
  {
   "cell_type": "code",
   "execution_count": 13,
   "id": "f5e3093b",
   "metadata": {},
   "outputs": [],
   "source": [
    "review_model_data = data.copy()\n",
    "review_model_data.Review = review_model_data.Review.apply(clean)"
   ]
  },
  {
   "cell_type": "code",
   "execution_count": 14,
   "id": "f22d2a93",
   "metadata": {},
   "outputs": [
    {
     "data": {
      "text/html": [
       "<div>\n",
       "<style scoped>\n",
       "    .dataframe tbody tr th:only-of-type {\n",
       "        vertical-align: middle;\n",
       "    }\n",
       "\n",
       "    .dataframe tbody tr th {\n",
       "        vertical-align: top;\n",
       "    }\n",
       "\n",
       "    .dataframe thead th {\n",
       "        text-align: right;\n",
       "    }\n",
       "</style>\n",
       "<table border=\"1\" class=\"dataframe\">\n",
       "  <thead>\n",
       "    <tr style=\"text-align: right;\">\n",
       "      <th></th>\n",
       "      <th>Review</th>\n",
       "      <th>Sentiment</th>\n",
       "    </tr>\n",
       "  </thead>\n",
       "  <tbody>\n",
       "    <tr>\n",
       "      <th>737</th>\n",
       "      <td>anyway the plot flowed smoothly and the male bonding scenes were a hoot</td>\n",
       "      <td>1</td>\n",
       "    </tr>\n",
       "    <tr>\n",
       "      <th>731</th>\n",
       "      <td>if you have not seen this movie i definitely recommend it</td>\n",
       "      <td>1</td>\n",
       "    </tr>\n",
       "    <tr>\n",
       "      <th>590</th>\n",
       "      <td>sprint terrible customer service</td>\n",
       "      <td>0</td>\n",
       "    </tr>\n",
       "    <tr>\n",
       "      <th>217</th>\n",
       "      <td>i also did not like the on button it felt like it would crack with use</td>\n",
       "      <td>0</td>\n",
       "    </tr>\n",
       "    <tr>\n",
       "      <th>348</th>\n",
       "      <td>the bipolarity of the ruthless thug one minute a ruthless killer the next minute a luv s diaper commercial is completely unconvincing</td>\n",
       "      <td>0</td>\n",
       "    </tr>\n",
       "    <tr>\n",
       "      <th>452</th>\n",
       "      <td>nothing short of magnificent photography cinematography in this film</td>\n",
       "      <td>1</td>\n",
       "    </tr>\n",
       "    <tr>\n",
       "      <th>95</th>\n",
       "      <td>will order from them again</td>\n",
       "      <td>1</td>\n",
       "    </tr>\n",
       "    <tr>\n",
       "      <th>506</th>\n",
       "      <td>delete this film from your mind</td>\n",
       "      <td>0</td>\n",
       "    </tr>\n",
       "    <tr>\n",
       "      <th>43</th>\n",
       "      <td>too politically correct</td>\n",
       "      <td>0</td>\n",
       "    </tr>\n",
       "    <tr>\n",
       "      <th>715</th>\n",
       "      <td>the phone crashed completely and now i have to get it replaced</td>\n",
       "      <td>0</td>\n",
       "    </tr>\n",
       "  </tbody>\n",
       "</table>\n",
       "</div>"
      ],
      "text/plain": [
       "                                                                                                                                     Review  \\\n",
       "737                                                                anyway the plot flowed smoothly and the male bonding scenes were a hoot    \n",
       "731                                                                              if you have not seen this movie i definitely recommend it    \n",
       "590                                                                                                       sprint terrible customer service    \n",
       "217                                                                 i also did not like the on button it felt like it would crack with use    \n",
       "348  the bipolarity of the ruthless thug one minute a ruthless killer the next minute a luv s diaper commercial is completely unconvincing    \n",
       "452                                                                   nothing short of magnificent photography cinematography in this film    \n",
       "95                                                                                                              will order from them again    \n",
       "506                                                                                                        delete this film from your mind    \n",
       "43                                                                                                                 too politically correct    \n",
       "715                                                                         the phone crashed completely and now i have to get it replaced    \n",
       "\n",
       "     Sentiment  \n",
       "737          1  \n",
       "731          1  \n",
       "590          0  \n",
       "217          0  \n",
       "348          0  \n",
       "452          1  \n",
       "95           1  \n",
       "506          0  \n",
       "43           0  \n",
       "715          0  "
      ]
     },
     "execution_count": 14,
     "metadata": {},
     "output_type": "execute_result"
    }
   ],
   "source": [
    "review_model_data.sample(10)"
   ]
  },
  {
   "cell_type": "markdown",
   "id": "b3ee1d63",
   "metadata": {},
   "source": [
    "### 6. Use TfidfVectorizer to convert the review text into TFIDF vectors and use the LogisticRegression class to create a model that uses logistic regression for the model. These should be combined into Pipeline object."
   ]
  },
  {
   "cell_type": "code",
   "execution_count": 15,
   "id": "564b0b91",
   "metadata": {},
   "outputs": [],
   "source": [
    "from sklearn.feature_extraction.text import TfidfVectorizer\n",
    "from sklearn.pipeline import Pipeline\n",
    "from sklearn.model_selection import train_test_split\n",
    "from sklearn.linear_model import LogisticRegression"
   ]
  },
  {
   "cell_type": "code",
   "execution_count": 16,
   "id": "1a7d392f",
   "metadata": {},
   "outputs": [],
   "source": [
    "tfidf = TfidfVectorizer()\n",
    "log_reg = LogisticRegression()\n",
    "log_tfidf = Pipeline([('vect', tfidf), \n",
    "                      ('clf', log_reg)])"
   ]
  },
  {
   "cell_type": "markdown",
   "id": "e06392d8",
   "metadata": {},
   "source": [
    "### 7. Now split the data into train and test sets, using 70% to train the data and 30% to test the data."
   ]
  },
  {
   "cell_type": "code",
   "execution_count": 17,
   "id": "2a69f7ed",
   "metadata": {},
   "outputs": [],
   "source": [
    "X_train, X_test, y_train, y_test = train_test_split(review_model_data.Review,\n",
    "                                                    review_model_data.Sentiment,\n",
    "                                                    test_size=0.3,\n",
    "                                                    random_state=42)"
   ]
  },
  {
   "cell_type": "markdown",
   "id": "5b82f86c",
   "metadata": {},
   "source": [
    "### 8. Use the fit() function to fit the training data on pipeline."
   ]
  },
  {
   "cell_type": "code",
   "execution_count": 18,
   "id": "069de3e9",
   "metadata": {},
   "outputs": [
    {
     "data": {
      "text/plain": [
       "Pipeline(steps=[('vect', TfidfVectorizer()), ('clf', LogisticRegression())])"
      ]
     },
     "execution_count": 18,
     "metadata": {},
     "output_type": "execute_result"
    }
   ],
   "source": [
    "log_tfidf.fit(X_train.values, y_train.values)"
   ]
  },
  {
   "cell_type": "markdown",
   "id": "947c7e18",
   "metadata": {},
   "source": [
    "### 9. Print the accuracy score."
   ]
  },
  {
   "cell_type": "code",
   "execution_count": 19,
   "id": "08b61e41",
   "metadata": {},
   "outputs": [
    {
     "data": {
      "text/plain": [
       "'The model has a test accuracy of 87%'"
      ]
     },
     "execution_count": 19,
     "metadata": {},
     "output_type": "execute_result"
    }
   ],
   "source": [
    "test_accuracy = log_tfidf.score(X_test.values, y_test.values)\n",
    "'The model has a test accuracy of {:.0%}'.format(test_accuracy)"
   ]
  },
  {
   "cell_type": "markdown",
   "id": "2a530d9b",
   "metadata": {},
   "source": [
    "### 10. Test the model on these sentences: \"I loved this place\" and \"I hated this place\"."
   ]
  },
  {
   "cell_type": "code",
   "execution_count": 20,
   "id": "21f6820e",
   "metadata": {},
   "outputs": [
    {
     "data": {
      "text/plain": [
       "array([1, 0])"
      ]
     },
     "execution_count": 20,
     "metadata": {},
     "output_type": "execute_result"
    }
   ],
   "source": [
    "log_tfidf.predict(['I loved this place', 'I hated this place'])"
   ]
  },
  {
   "cell_type": "code",
   "execution_count": null,
   "id": "4728934d",
   "metadata": {},
   "outputs": [],
   "source": []
  }
 ],
 "metadata": {
  "kernelspec": {
   "display_name": "Python 3",
   "language": "python",
   "name": "python3"
  },
  "language_info": {
   "codemirror_mode": {
    "name": "ipython",
    "version": 3
   },
   "file_extension": ".py",
   "mimetype": "text/x-python",
   "name": "python",
   "nbconvert_exporter": "python",
   "pygments_lexer": "ipython3",
   "version": "3.8.8"
  }
 },
 "nbformat": 4,
 "nbformat_minor": 5
}
