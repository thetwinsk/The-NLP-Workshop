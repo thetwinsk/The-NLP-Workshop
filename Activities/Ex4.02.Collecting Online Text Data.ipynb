{
 "cells": [
  {
   "cell_type": "code",
   "execution_count": 1,
   "id": "e4baf981",
   "metadata": {},
   "outputs": [
    {
     "data": {
      "text/plain": [
       "200"
      ]
     },
     "execution_count": 1,
     "metadata": {},
     "output_type": "execute_result"
    }
   ],
   "source": [
    "import requests\n",
    "r = requests.get('https://www.gutenberg.org/files/766/766-0.txt')\n",
    "r.status_code"
   ]
  },
  {
   "cell_type": "code",
   "execution_count": 2,
   "id": "f2a1ac95",
   "metadata": {},
   "outputs": [
    {
     "data": {
      "text/plain": [
       "'ï»¿The Project Gutenberg EBook of David Copperfield, by Charles Dickens\\r\\n\\r\\nThis eBook is for the use of anyone anywhere at no cost and with\\r\\nalmost no restrictions whatsoever.  You may copy it, give it away or\\r\\nre-use it under the terms of the Project Gutenberg License included\\r\\nwith this eBook or online at www.gutenberg.org\\r\\n\\r\\n\\r\\nTitle: David Copperfield\\r\\n\\r\\nAuthor: Charles Dickens\\r\\n\\r\\nRelease Date: December, 1996  [Etext #766]\\r\\nPosting Date: November 24, 2009\\r\\nLast Updated: September 25, 2016\\r\\n\\r\\nLanguage: English\\r\\n\\r\\nCharacter set encoding: UTF-8\\r\\n\\r\\n*** START OF THIS PROJECT GUTENBERG EBOOK DAVID COPPERFIELD ***\\r\\n\\r\\n\\r\\n\\r\\n\\r\\nProduced by Jo Churcher\\r\\n\\r\\n\\r\\n\\r\\n\\r\\n\\r\\nDAVID COPPERFIELD\\r\\n\\r\\n\\r\\nBy Charles Dickens\\r\\n\\r\\n\\r\\n\\r\\n               AFFECTIONATELY INSCRIBED TO\\r\\n               THE HON.  Mr. AND Mrs. RICHARD WATSON,\\r\\n               OF ROCKINGHAM, NORTHAMPTONSHIRE.\\r\\n\\r\\n\\r\\nCONTENTS\\r\\n\\r\\n\\r\\n     I.      I Am Born\\r\\n     II.     I Observe\\r\\n     III.    I Have a Change\\r\\n     IV.     I Fall into Disgrace\\r\\n     V.   '"
      ]
     },
     "execution_count": 2,
     "metadata": {},
     "output_type": "execute_result"
    }
   ],
   "source": [
    "r.text[:1000]"
   ]
  },
  {
   "cell_type": "code",
   "execution_count": 4,
   "id": "3363f1a1",
   "metadata": {},
   "outputs": [
    {
     "data": {
      "text/plain": [
       "2033139"
      ]
     },
     "execution_count": 4,
     "metadata": {},
     "output_type": "execute_result"
    }
   ],
   "source": [
    "from pathlib import Path\n",
    "open(Path(\"/Users/kaylanguyen/Documents/TheNLPWorkshop/Chapter4/David_Copperfield.txt\"),\\\n",
    "     'w', encoding='utf-8').write(r.text)"
   ]
  },
  {
   "cell_type": "markdown",
   "id": "189e3918",
   "metadata": {},
   "source": [
    "### Urllib3"
   ]
  },
  {
   "cell_type": "code",
   "execution_count": 5,
   "id": "ed4875bb",
   "metadata": {},
   "outputs": [
    {
     "data": {
      "text/plain": [
       "200"
      ]
     },
     "execution_count": 5,
     "metadata": {},
     "output_type": "execute_result"
    }
   ],
   "source": [
    "import urllib3\n",
    "http = urllib3.PoolManager()\n",
    "rr = http.request('GET', 'http://www.gutenberg.org/files/766/766-0.txt')\n",
    "rr.status"
   ]
  },
  {
   "cell_type": "code",
   "execution_count": 6,
   "id": "80e829a7",
   "metadata": {},
   "outputs": [
    {
     "data": {
      "text/plain": [
       "b'\\xef\\xbb\\xbfThe Project Gutenberg EBook of David Copperfield, by Charles Dickens\\r\\n\\r\\nThis eBook is for the use of anyone anywhere at no cost and with\\r\\nalmost no restrictions whatsoever.  You may copy it, give it away or\\r\\nre-use it under the terms of the Project Gutenberg License included\\r\\nwith this eBook or online at www.gutenberg.org\\r\\n\\r\\n\\r\\nTitle: David Copperfield\\r\\n\\r\\nAuthor: Charles Dickens\\r\\n\\r\\nRelease Date: December, 1996  [Etext #766]\\r\\nPosting Date: November 24, 2009\\r\\nLast Updated: September 25, 2016\\r\\n\\r\\nLanguage: English\\r\\n\\r\\nCharacter set encoding: UTF-8\\r\\n\\r\\n*** START OF THIS PROJECT GUTENBERG EBOOK DAVID COPPERFIELD ***\\r\\n\\r\\n\\r\\n\\r\\n\\r\\nProduced by Jo Churcher\\r\\n\\r\\n\\r\\n\\r\\n\\r\\n\\r\\nDAVID COPPERFIELD\\r\\n\\r\\n\\r\\nBy Charles Dickens\\r\\n\\r\\n\\r\\n\\r\\n               AFFECTIONATELY INSCRIBED TO\\r\\n               THE HON.  Mr. AND Mrs. RICHARD WATSON,\\r\\n               OF ROCKINGHAM, NORTHAMPTONSHIRE.\\r\\n\\r\\n\\r\\nCONTENTS\\r\\n\\r\\n\\r\\n     I.      I Am Born\\r\\n     II.     I Observe\\r\\n     III.    I Have a Change\\r\\n     IV.     I Fall into Disgrace\\r\\n     V.   '"
      ]
     },
     "execution_count": 6,
     "metadata": {},
     "output_type": "execute_result"
    }
   ],
   "source": [
    "rr.data[:1000]"
   ]
  },
  {
   "cell_type": "code",
   "execution_count": 7,
   "id": "206d29d5",
   "metadata": {},
   "outputs": [
    {
     "data": {
      "text/plain": [
       "2033139"
      ]
     },
     "execution_count": 7,
     "metadata": {},
     "output_type": "execute_result"
    }
   ],
   "source": [
    "open(Path(\"/Users/kaylanguyen/Documents/TheNLPWorkshop/Chapter4/David_Copperfield.txt\"),\\\n",
    "     'wb').write(rr.data)"
   ]
  },
  {
   "cell_type": "code",
   "execution_count": null,
   "id": "a9d6530c",
   "metadata": {},
   "outputs": [],
   "source": []
  }
 ],
 "metadata": {
  "kernelspec": {
   "display_name": "Python 3",
   "language": "python",
   "name": "python3"
  },
  "language_info": {
   "codemirror_mode": {
    "name": "ipython",
    "version": 3
   },
   "file_extension": ".py",
   "mimetype": "text/x-python",
   "name": "python",
   "nbconvert_exporter": "python",
   "pygments_lexer": "ipython3",
   "version": "3.8.8"
  }
 },
 "nbformat": 4,
 "nbformat_minor": 5
}
