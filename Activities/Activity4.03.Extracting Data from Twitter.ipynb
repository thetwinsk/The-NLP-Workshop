{
 "cells": [
  {
   "cell_type": "markdown",
   "id": "d1b1793d",
   "metadata": {},
   "source": [
    "### Import the neccessary libraries."
   ]
  },
  {
   "cell_type": "code",
   "execution_count": 1,
   "id": "2ed4d87a",
   "metadata": {},
   "outputs": [],
   "source": [
    "# conda install -c conda-forge tweepy"
   ]
  },
  {
   "cell_type": "code",
   "execution_count": 2,
   "id": "bf2f0f74",
   "metadata": {},
   "outputs": [],
   "source": [
    "import tweepy\n",
    "from pprint import pprint\n",
    "import pandas as pd"
   ]
  },
  {
   "cell_type": "markdown",
   "id": "a077be54",
   "metadata": {},
   "source": [
    "### Fetch the data using the keys and tokens."
   ]
  },
  {
   "cell_type": "code",
   "execution_count": 3,
   "id": "57a2d4cc",
   "metadata": {},
   "outputs": [],
   "source": [
    "consumer_key = 'nsXpDnuJ611lMVddGrXDJsCG7'\n",
    "consumer_secret = '8jdxGXeIyS8ixZOfi9SJ3tMuWbv6oix5aEnp5tgHFqqWukGscn'\n",
    "access_token = '1236879699122348033-4LWRbmY50stwFT8yyJCAL8klaPWuIB'\n",
    "access_token_secret = 'Gvk7sptJjh4u3KsFQNZPeYuHTIcgC6sOt94QybyZArgVs'\n",
    "auth = tweepy.OAuthHandler(consumer_key, consumer_secret)\n",
    "auth.set_access_token(access_token, access_token_secret)\n",
    "api = tweepy.API(auth)"
   ]
  },
  {
   "cell_type": "code",
   "execution_count": 4,
   "id": "a5679ce1",
   "metadata": {},
   "outputs": [],
   "source": [
    "#tweepy.Cursor(api.search_tweets, q='randomquery', lang=\"en\")"
   ]
  },
  {
   "cell_type": "code",
   "execution_count": 5,
   "id": "8b257191",
   "metadata": {},
   "outputs": [],
   "source": [
    "tweet_list = []\n",
    "for tweet in tweepy.Cursor(api.search_tweets, q='#climatechange', lang=\"en\").items(100):\n",
    "    tweet_list.append(tweet)"
   ]
  },
  {
   "cell_type": "code",
   "execution_count": 6,
   "id": "eb927873",
   "metadata": {},
   "outputs": [
    {
     "data": {
      "text/plain": [
       "100"
      ]
     },
     "execution_count": 6,
     "metadata": {},
     "output_type": "execute_result"
    }
   ],
   "source": [
    "len(tweet_list)"
   ]
  },
  {
   "cell_type": "code",
   "execution_count": 7,
   "id": "4bebb988",
   "metadata": {},
   "outputs": [
    {
     "name": "stdout",
     "output_type": "stream",
     "text": [
      "{'contributors': None,\n",
      " 'coordinates': None,\n",
      " 'created_at': 'Wed Apr 06 10:13:38 +0000 2022',\n",
      " 'entities': {'hashtags': [{'indices': [50, 62], 'text': 'VoteLnpLast'},\n",
      "                           {'indices': [87, 98], 'text': 'VoteWisely'}],\n",
      "              'symbols': [],\n",
      "              'urls': [{'display_url': 'twitter.com/i/web/status/1…',\n",
      "                        'expanded_url': 'https://twitter.com/i/web/status/1511648315682992134',\n",
      "                        'indices': [100, 123],\n",
      "                        'url': 'https://t.co/VfPOQr4HjI'}],\n",
      "              'user_mentions': []},\n",
      " 'favorite_count': 0,\n",
      " 'favorited': False,\n",
      " 'geo': None,\n",
      " 'id': 1511648315682992134,\n",
      " 'id_str': '1511648315682992134',\n",
      " 'in_reply_to_screen_name': None,\n",
      " 'in_reply_to_status_id': None,\n",
      " 'in_reply_to_status_id_str': None,\n",
      " 'in_reply_to_user_id': None,\n",
      " 'in_reply_to_user_id_str': None,\n",
      " 'is_quote_status': True,\n",
      " 'lang': 'en',\n",
      " 'metadata': {'iso_language_code': 'en', 'result_type': 'recent'},\n",
      " 'place': None,\n",
      " 'possibly_sensitive': False,\n",
      " 'quoted_status': {'contributors': None,\n",
      "                   'coordinates': None,\n",
      "                   'created_at': 'Wed Apr 06 02:23:11 +0000 2022',\n",
      "                   'entities': {'hashtags': [],\n",
      "                                'symbols': [],\n",
      "                                'urls': [{'display_url': 'twitter.com/i/web/status/1…',\n",
      "                                          'expanded_url': 'https://twitter.com/i/web/status/1511529925102211073',\n",
      "                                          'indices': [115, 138],\n",
      "                                          'url': 'https://t.co/eFRBvu9d6B'}],\n",
      "                                'user_mentions': [{'id': 15414356,\n",
      "                                                   'id_str': '15414356',\n",
      "                                                   'indices': [0, 8],\n",
      "                                                   'name': 'Dan Ilic',\n",
      "                                                   'screen_name': 'danilic'}]},\n",
      "                   'favorite_count': 54,\n",
      "                   'favorited': False,\n",
      "                   'geo': None,\n",
      "                   'id': 1511529925102211073,\n",
      "                   'id_str': '1511529925102211073',\n",
      "                   'in_reply_to_screen_name': 'danilic',\n",
      "                   'in_reply_to_status_id': 1511475407450963969,\n",
      "                   'in_reply_to_status_id_str': '1511475407450963969',\n",
      "                   'in_reply_to_user_id': 15414356,\n",
      "                   'in_reply_to_user_id_str': '15414356',\n",
      "                   'is_quote_status': False,\n",
      "                   'lang': 'en',\n",
      "                   'metadata': {'iso_language_code': 'en',\n",
      "                                'result_type': 'recent'},\n",
      "                   'place': None,\n",
      "                   'retweet_count': 12,\n",
      "                   'retweeted': False,\n",
      "                   'source': '<a href=\"http://twitter.com/download/iphone\" '\n",
      "                             'rel=\"nofollow\">Twitter for iPhone</a>',\n",
      "                   'text': '@danilic Never have I seen one political party '\n",
      "                           'complain so hard about facing political opposition '\n",
      "                           'at an election.… https://t.co/eFRBvu9d6B',\n",
      "                   'truncated': True,\n",
      "                   'user': {'contributors_enabled': False,\n",
      "                            'created_at': 'Sat Jul 16 18:21:55 +0000 2016',\n",
      "                            'default_profile': True,\n",
      "                            'default_profile_image': False,\n",
      "                            'description': 'Writer, script coach, expat '\n",
      "                                           'Aussie, husband, parent, baker of '\n",
      "                                           'cakes, Richmond member and '\n",
      "                                           'Canberra fan. Only the clever '\n",
      "                                           'opinions are mine.',\n",
      "                            'entities': {'description': {'urls': []},\n",
      "                                         'url': {'urls': [{'display_url': 'write-la.com',\n",
      "                                                           'expanded_url': 'http://www.write-la.com',\n",
      "                                                           'indices': [0, 23],\n",
      "                                                           'url': 'https://t.co/2hYd3eEGZq'}]}},\n",
      "                            'favourites_count': 2187,\n",
      "                            'follow_request_sent': False,\n",
      "                            'followers_count': 564,\n",
      "                            'following': False,\n",
      "                            'friends_count': 195,\n",
      "                            'geo_enabled': True,\n",
      "                            'has_extended_profile': False,\n",
      "                            'id': 754380556175933440,\n",
      "                            'id_str': '754380556175933440',\n",
      "                            'is_translation_enabled': False,\n",
      "                            'is_translator': False,\n",
      "                            'lang': None,\n",
      "                            'listed_count': 17,\n",
      "                            'location': 'Los Angeles, CA',\n",
      "                            'name': 'Tim Schildberger',\n",
      "                            'notifications': False,\n",
      "                            'profile_background_color': 'F5F8FA',\n",
      "                            'profile_background_image_url': None,\n",
      "                            'profile_background_image_url_https': None,\n",
      "                            'profile_background_tile': False,\n",
      "                            'profile_banner_url': 'https://pbs.twimg.com/profile_banners/754380556175933440/1628621129',\n",
      "                            'profile_image_url': 'http://pbs.twimg.com/profile_images/1425166422854963201/0qHrvXma_normal.jpg',\n",
      "                            'profile_image_url_https': 'https://pbs.twimg.com/profile_images/1425166422854963201/0qHrvXma_normal.jpg',\n",
      "                            'profile_link_color': '1DA1F2',\n",
      "                            'profile_sidebar_border_color': 'C0DEED',\n",
      "                            'profile_sidebar_fill_color': 'DDEEF6',\n",
      "                            'profile_text_color': '333333',\n",
      "                            'profile_use_background_image': True,\n",
      "                            'protected': False,\n",
      "                            'screen_name': 'TimSchildberger',\n",
      "                            'statuses_count': 2578,\n",
      "                            'time_zone': None,\n",
      "                            'translator_type': 'none',\n",
      "                            'url': 'https://t.co/2hYd3eEGZq',\n",
      "                            'utc_offset': None,\n",
      "                            'verified': False,\n",
      "                            'withheld_in_countries': []}},\n",
      " 'quoted_status_id': 1511529925102211073,\n",
      " 'quoted_status_id_str': '1511529925102211073',\n",
      " 'retweet_count': 0,\n",
      " 'retweeted': False,\n",
      " 'source': '<a href=\"http://twitter.com/download/iphone\" '\n",
      "           'rel=\"nofollow\">Twitter for iPhone</a>',\n",
      " 'text': 'Where’s the gif of the guy saying “THIS!”👇🏽👇🏽 ⁉️\\n'\n",
      "         '\\n'\n",
      "         '#VoteLnpLast it’s where they put you\\n'\n",
      "         '#VoteWisely… https://t.co/VfPOQr4HjI',\n",
      " 'truncated': True,\n",
      " 'user': {'contributors_enabled': False,\n",
      "          'created_at': 'Wed Aug 28 03:27:38 +0000 2013',\n",
      "          'default_profile': True,\n",
      "          'default_profile_image': False,\n",
      "          'description': 'Flâneur - the ability to wander detached from '\n",
      "                         'society with no other purpose than to be an acute '\n",
      "                         'observer of contemporary life.',\n",
      "          'entities': {'description': {'urls': []}},\n",
      "          'favourites_count': 6698,\n",
      "          'follow_request_sent': False,\n",
      "          'followers_count': 77,\n",
      "          'following': False,\n",
      "          'friends_count': 511,\n",
      "          'geo_enabled': False,\n",
      "          'has_extended_profile': False,\n",
      "          'id': 1706186088,\n",
      "          'id_str': '1706186088',\n",
      "          'is_translation_enabled': False,\n",
      "          'is_translator': False,\n",
      "          'lang': None,\n",
      "          'listed_count': 2,\n",
      "          'location': '',\n",
      "          'name': 'Scarletp',\n",
      "          'notifications': False,\n",
      "          'profile_background_color': 'C0DEED',\n",
      "          'profile_background_image_url': 'http://abs.twimg.com/images/themes/theme1/bg.png',\n",
      "          'profile_background_image_url_https': 'https://abs.twimg.com/images/themes/theme1/bg.png',\n",
      "          'profile_background_tile': False,\n",
      "          'profile_banner_url': 'https://pbs.twimg.com/profile_banners/1706186088/1635368311',\n",
      "          'profile_image_url': 'http://pbs.twimg.com/profile_images/435650449887080448/qmXhemKJ_normal.jpeg',\n",
      "          'profile_image_url_https': 'https://pbs.twimg.com/profile_images/435650449887080448/qmXhemKJ_normal.jpeg',\n",
      "          'profile_link_color': '1DA1F2',\n",
      "          'profile_sidebar_border_color': 'C0DEED',\n",
      "          'profile_sidebar_fill_color': 'DDEEF6',\n",
      "          'profile_text_color': '333333',\n",
      "          'profile_use_background_image': True,\n",
      "          'protected': False,\n",
      "          'screen_name': 'scarletp1792',\n",
      "          'statuses_count': 4172,\n",
      "          'time_zone': None,\n",
      "          'translator_type': 'none',\n",
      "          'url': None,\n",
      "          'utc_offset': None,\n",
      "          'verified': False,\n",
      "          'withheld_in_countries': []}}\n"
     ]
    }
   ],
   "source": [
    "status = tweet_list[0]\n",
    "status_json = status._json\n",
    "pprint(status_json)"
   ]
  },
  {
   "cell_type": "code",
   "execution_count": 8,
   "id": "9ffeb8ad",
   "metadata": {},
   "outputs": [
    {
     "data": {
      "text/plain": [
       "'Where’s the gif of the guy saying “THIS!”👇🏽👇🏽 ⁉️\\n\\n#VoteLnpLast it’s where they put you\\n#VoteWisely… https://t.co/VfPOQr4HjI'"
      ]
     },
     "execution_count": 8,
     "metadata": {},
     "output_type": "execute_result"
    }
   ],
   "source": [
    "status_json['text']"
   ]
  },
  {
   "cell_type": "code",
   "execution_count": 9,
   "id": "6f5e7101",
   "metadata": {},
   "outputs": [],
   "source": [
    "tweets = []\n",
    "for twt in tweet_list:\n",
    "    tweets.append(twt._json['text'])"
   ]
  },
  {
   "cell_type": "markdown",
   "id": "a433f628",
   "metadata": {},
   "source": [
    "### Create a DataFrame consisting of tweets."
   ]
  },
  {
   "cell_type": "code",
   "execution_count": 10,
   "id": "ba88ade4",
   "metadata": {},
   "outputs": [
    {
     "data": {
      "text/html": [
       "<div>\n",
       "<style scoped>\n",
       "    .dataframe tbody tr th:only-of-type {\n",
       "        vertical-align: middle;\n",
       "    }\n",
       "\n",
       "    .dataframe tbody tr th {\n",
       "        vertical-align: top;\n",
       "    }\n",
       "\n",
       "    .dataframe thead th {\n",
       "        text-align: right;\n",
       "    }\n",
       "</style>\n",
       "<table border=\"1\" class=\"dataframe\">\n",
       "  <thead>\n",
       "    <tr style=\"text-align: right;\">\n",
       "      <th></th>\n",
       "      <th>tweet_text</th>\n",
       "    </tr>\n",
       "  </thead>\n",
       "  <tbody>\n",
       "    <tr>\n",
       "      <th>0</th>\n",
       "      <td>Where’s the gif of the guy saying “THIS!”👇🏽👇🏽 ...</td>\n",
       "    </tr>\n",
       "    <tr>\n",
       "      <th>1</th>\n",
       "      <td>I absolutely love this graph from latest #IPCC...</td>\n",
       "    </tr>\n",
       "    <tr>\n",
       "      <th>2</th>\n",
       "      <td>RT @DrJakeW: Honoured to work with 277 scienti...</td>\n",
       "    </tr>\n",
       "    <tr>\n",
       "      <th>3</th>\n",
       "      <td>You're invited to the launch of a new publicat...</td>\n",
       "    </tr>\n",
       "    <tr>\n",
       "      <th>4</th>\n",
       "      <td>10-day rolling average, degrees Celsius - Melb...</td>\n",
       "    </tr>\n",
       "  </tbody>\n",
       "</table>\n",
       "</div>"
      ],
      "text/plain": [
       "                                          tweet_text\n",
       "0  Where’s the gif of the guy saying “THIS!”👇🏽👇🏽 ...\n",
       "1  I absolutely love this graph from latest #IPCC...\n",
       "2  RT @DrJakeW: Honoured to work with 277 scienti...\n",
       "3  You're invited to the launch of a new publicat...\n",
       "4  10-day rolling average, degrees Celsius - Melb..."
      ]
     },
     "execution_count": 10,
     "metadata": {},
     "output_type": "execute_result"
    }
   ],
   "source": [
    "tweet_text_df = pd.DataFrame({'tweet_text' : tweets})\n",
    "tweet_text_df.head()"
   ]
  },
  {
   "cell_type": "code",
   "execution_count": null,
   "id": "b682de03",
   "metadata": {},
   "outputs": [],
   "source": []
  }
 ],
 "metadata": {
  "kernelspec": {
   "display_name": "Python 3",
   "language": "python",
   "name": "python3"
  },
  "language_info": {
   "codemirror_mode": {
    "name": "ipython",
    "version": 3
   },
   "file_extension": ".py",
   "mimetype": "text/x-python",
   "name": "python",
   "nbconvert_exporter": "python",
   "pygments_lexer": "ipython3",
   "version": "3.8.8"
  }
 },
 "nbformat": 4,
 "nbformat_minor": 5
}
