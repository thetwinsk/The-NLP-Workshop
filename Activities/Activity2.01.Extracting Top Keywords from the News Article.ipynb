{
 "cells": [
  {
   "cell_type": "markdown",
   "id": "e5d1932c",
   "metadata": {},
   "source": [
    "### 1. Import nltk and any other necessary libraries"
   ]
  },
  {
   "cell_type": "code",
   "execution_count": 1,
   "id": "c5d9e537",
   "metadata": {},
   "outputs": [],
   "source": [
    "import nltk\n",
    "import pandas as pd\n",
    "from nltk import word_tokenize, pos_tag\n",
    "from nltk.stem.porter import *\n",
    "from nltk.tokenize import WhitespaceTokenizer\n",
    "from nltk.corpus import stopwords\n",
    "from collections import Counter\n",
    "import operator"
   ]
  },
  {
   "cell_type": "markdown",
   "id": "1e6feaaf",
   "metadata": {},
   "source": [
    "### 2. Define some functions to help you load the text file, convert the string into lowercase, tokenize the text, remove the stop words, and perform stemming on all the remaining tokens. Finally, define a function to calculate the frequency of all these words."
   ]
  },
  {
   "cell_type": "code",
   "execution_count": 2,
   "id": "f6c805df",
   "metadata": {},
   "outputs": [],
   "source": [
    "# sentence = open(\"/Users/kaylanguyen/Documents/TheNLPWorkshop/Activities/news_article.txt\", 'r').read()\n",
    "# sentence"
   ]
  },
  {
   "cell_type": "code",
   "execution_count": 3,
   "id": "6543d003",
   "metadata": {},
   "outputs": [],
   "source": [
    "def load_text_file(name_of_file):\n",
    "    path = '/Users/kaylanguyen/Documents/TheNLPWorkshop/Activities/'\n",
    "    return open(path + name_of_file, 'r').read()"
   ]
  },
  {
   "cell_type": "code",
   "execution_count": 4,
   "id": "2a3f392e",
   "metadata": {},
   "outputs": [],
   "source": [
    "# def load_file(file_path):\n",
    "#     news = ''.join([line for line in open(file_path,encoding='utf-8')])\n",
    "#     return news\n",
    "\n",
    "# path = \"../data/news_article.txt\"\n",
    "# news_article = load_file(path)"
   ]
  },
  {
   "cell_type": "code",
   "execution_count": 5,
   "id": "d86d5ac6",
   "metadata": {},
   "outputs": [],
   "source": [
    "def convert_lower(text):\n",
    "    return text.lower()"
   ]
  },
  {
   "cell_type": "code",
   "execution_count": 6,
   "id": "dea08f05",
   "metadata": {},
   "outputs": [],
   "source": [
    "def tokenize_with_wst(text):\n",
    "    wh_tokenizer = WhitespaceTokenizer()\n",
    "    return wh_tokenizer.tokenize(text)"
   ]
  },
  {
   "cell_type": "code",
   "execution_count": 7,
   "id": "cf57c991",
   "metadata": {},
   "outputs": [],
   "source": [
    "# wht = WhitespaceTokenizer()\n",
    "# def tokenize_text(text):\n",
    "#     return wht.tokenize(text=text)"
   ]
  },
  {
   "cell_type": "code",
   "execution_count": 8,
   "id": "35b39b8a",
   "metadata": {},
   "outputs": [],
   "source": [
    "stop_words = stopwords.words('english')\n",
    "def remove_stop_words(text, stop_words):\n",
    "    return [word for word in wst_tokenized_text\\\n",
    "                    if wst_tokenized_text not in stop_words]"
   ]
  },
  {
   "cell_type": "code",
   "execution_count": 9,
   "id": "d661de69",
   "metadata": {},
   "outputs": [],
   "source": [
    "def get_stems(text):\n",
    "    ps_stemmer = PorterStemmer()\n",
    "    return [ps_stemmer.stem(wd) for wd in text]"
   ]
  },
  {
   "cell_type": "code",
   "execution_count": 10,
   "id": "f275ff16",
   "metadata": {},
   "outputs": [],
   "source": [
    "def get_frequency(corpus, n):\n",
    "    token_count_di = Counter(corpus)\n",
    "    return token_count_di.most_common(n)"
   ]
  },
  {
   "cell_type": "code",
   "execution_count": 11,
   "id": "8d1b431c",
   "metadata": {},
   "outputs": [],
   "source": [
    "def get_freq(stems):\n",
    "    freq_dict = {}\n",
    "    for t in stems:\n",
    "        freq_dict[t.strip()] = freq_dict.get(t.strip(), 0) + 1\n",
    "    return freq_dict"
   ]
  },
  {
   "cell_type": "markdown",
   "id": "4ced3d66",
   "metadata": {},
   "source": [
    "### 3. Load news_article.txt using a Python file reader into a single string"
   ]
  },
  {
   "cell_type": "code",
   "execution_count": 12,
   "id": "be810b98",
   "metadata": {},
   "outputs": [
    {
     "data": {
      "text/plain": [
       "'Ever since the populist Law and Justice (pis) party took power in 2015, Adam Bodnar, Poland’s\\n human-rights ombudsman, has been warning against its relentless efforts to get control of the\\n courts. To illustrate the danger, he uses an expression from communist times: lex telefonica.\\n In the Polish People’s Republic, verdicts were routinely dictated by a phone call from an\\n apparatchik at party headquarters. Today’s government has more subtle techniques,\\n but the goal is the same, Mr Bodnar says: “If a judge has a case on his desk with some\\n political importance, he should be afraid.”\\n\\nThe European Commission is worried, too. It accuses pis of violating Poland’s commitments\\nto the rule of law under the European Union’s founding treaty. In 2017 the commission took\\nPoland to the European Court of Justice (ecj) over laws that gave politicians control over\\nappointing judges. (For example, they lowered judges’ retirement age while letting the justice\\n minister pick whom to exempt.) The ecj ruled against the Poles, who had in the meantime\\n scrapped some of the measures.'"
      ]
     },
     "execution_count": 12,
     "metadata": {},
     "output_type": "execute_result"
    }
   ],
   "source": [
    "text = load_text_file('news_article.txt')\n",
    "text"
   ]
  },
  {
   "cell_type": "markdown",
   "id": "65549b09",
   "metadata": {},
   "source": [
    "### 4. Convert the text string into lowercase"
   ]
  },
  {
   "cell_type": "code",
   "execution_count": 13,
   "id": "ab519fa0",
   "metadata": {},
   "outputs": [
    {
     "data": {
      "text/plain": [
       "'ever since the populist law and justice (pis) party took power in 2015, adam bodnar, poland’s\\n human-rights ombudsman, has been warning against its relentless efforts to get control of the\\n courts. to illustrate the danger, he uses an expression from communist times: lex telefonica.\\n in the polish people’s republic, verdicts were routinely dictated by a phone call from an\\n apparatchik at party headquarters. today’s government has more subtle techniques,\\n but the goal is the same, mr bodnar says: “if a judge has a case on his desk with some\\n political importance, he should be afraid.”\\n\\nthe european commission is worried, too. it accuses pis of violating poland’s commitments\\nto the rule of law under the european union’s founding treaty. in 2017 the commission took\\npoland to the european court of justice (ecj) over laws that gave politicians control over\\nappointing judges. (for example, they lowered judges’ retirement age while letting the justice\\n minister pick whom to exempt.) the ecj ruled against the poles, who had in the meantime\\n scrapped some of the measures.'"
      ]
     },
     "execution_count": 13,
     "metadata": {},
     "output_type": "execute_result"
    }
   ],
   "source": [
    "convert_lower(text)"
   ]
  },
  {
   "cell_type": "markdown",
   "id": "749a89bf",
   "metadata": {},
   "source": [
    "### 5. Split the string into tokens using a white space"
   ]
  },
  {
   "cell_type": "code",
   "execution_count": 14,
   "id": "90c707cd",
   "metadata": {},
   "outputs": [
    {
     "name": "stdout",
     "output_type": "stream",
     "text": [
      "['Ever', 'since', 'the', 'populist', 'Law', 'and', 'Justice', '(pis)', 'party', 'took', 'power', 'in', '2015,', 'Adam', 'Bodnar,', 'Poland’s', 'human-rights', 'ombudsman,', 'has', 'been', 'warning', 'against', 'its', 'relentless', 'efforts', 'to', 'get', 'control', 'of', 'the', 'courts.', 'To', 'illustrate', 'the', 'danger,', 'he', 'uses', 'an', 'expression', 'from', 'communist', 'times:', 'lex', 'telefonica.', 'In', 'the', 'Polish', 'People’s', 'Republic,', 'verdicts', 'were', 'routinely', 'dictated', 'by', 'a', 'phone', 'call', 'from', 'an', 'apparatchik', 'at', 'party', 'headquarters.', 'Today’s', 'government', 'has', 'more', 'subtle', 'techniques,', 'but', 'the', 'goal', 'is', 'the', 'same,', 'Mr', 'Bodnar', 'says:', '“If', 'a', 'judge', 'has', 'a', 'case', 'on', 'his', 'desk', 'with', 'some', 'political', 'importance,', 'he', 'should', 'be', 'afraid.”', 'The', 'European', 'Commission', 'is', 'worried,', 'too.', 'It', 'accuses', 'pis', 'of', 'violating', 'Poland’s', 'commitments', 'to', 'the', 'rule', 'of', 'law', 'under', 'the', 'European', 'Union’s', 'founding', 'treaty.', 'In', '2017', 'the', 'commission', 'took', 'Poland', 'to', 'the', 'European', 'Court', 'of', 'Justice', '(ecj)', 'over', 'laws', 'that', 'gave', 'politicians', 'control', 'over', 'appointing', 'judges.', '(For', 'example,', 'they', 'lowered', 'judges’', 'retirement', 'age', 'while', 'letting', 'the', 'justice', 'minister', 'pick', 'whom', 'to', 'exempt.)', 'The', 'ecj', 'ruled', 'against', 'the', 'Poles,', 'who', 'had', 'in', 'the', 'meantime', 'scrapped', 'some', 'of', 'the', 'measures.']\n"
     ]
    }
   ],
   "source": [
    "wst_tokenized_text = tokenize_with_wst(text)\n",
    "print(wst_tokenized_text)"
   ]
  },
  {
   "cell_type": "markdown",
   "id": "e7e71b28",
   "metadata": {},
   "source": [
    "### 6. Remove any stop words"
   ]
  },
  {
   "cell_type": "code",
   "execution_count": 15,
   "id": "cb514062",
   "metadata": {},
   "outputs": [
    {
     "name": "stdout",
     "output_type": "stream",
     "text": [
      "['Ever', 'since', 'the', 'populist', 'Law', 'and', 'Justice', '(pis)', 'party', 'took', 'power', 'in', '2015,', 'Adam', 'Bodnar,', 'Poland’s', 'human-rights', 'ombudsman,', 'has', 'been', 'warning', 'against', 'its', 'relentless', 'efforts', 'to', 'get', 'control', 'of', 'the', 'courts.', 'To', 'illustrate', 'the', 'danger,', 'he', 'uses', 'an', 'expression', 'from', 'communist', 'times:', 'lex', 'telefonica.', 'In', 'the', 'Polish', 'People’s', 'Republic,', 'verdicts', 'were', 'routinely', 'dictated', 'by', 'a', 'phone', 'call', 'from', 'an', 'apparatchik', 'at', 'party', 'headquarters.', 'Today’s', 'government', 'has', 'more', 'subtle', 'techniques,', 'but', 'the', 'goal', 'is', 'the', 'same,', 'Mr', 'Bodnar', 'says:', '“If', 'a', 'judge', 'has', 'a', 'case', 'on', 'his', 'desk', 'with', 'some', 'political', 'importance,', 'he', 'should', 'be', 'afraid.”', 'The', 'European', 'Commission', 'is', 'worried,', 'too.', 'It', 'accuses', 'pis', 'of', 'violating', 'Poland’s', 'commitments', 'to', 'the', 'rule', 'of', 'law', 'under', 'the', 'European', 'Union’s', 'founding', 'treaty.', 'In', '2017', 'the', 'commission', 'took', 'Poland', 'to', 'the', 'European', 'Court', 'of', 'Justice', '(ecj)', 'over', 'laws', 'that', 'gave', 'politicians', 'control', 'over', 'appointing', 'judges.', '(For', 'example,', 'they', 'lowered', 'judges’', 'retirement', 'age', 'while', 'letting', 'the', 'justice', 'minister', 'pick', 'whom', 'to', 'exempt.)', 'The', 'ecj', 'ruled', 'against', 'the', 'Poles,', 'who', 'had', 'in', 'the', 'meantime', 'scrapped', 'some', 'of', 'the', 'measures.']\n"
     ]
    }
   ],
   "source": [
    "text_without_stopwords = remove_stop_words(wst_tokenized_text, stop_words)\n",
    "print(text_without_stopwords)"
   ]
  },
  {
   "cell_type": "markdown",
   "id": "ccea3df3",
   "metadata": {},
   "source": [
    "### 7. Perform stemming on all the tokens"
   ]
  },
  {
   "cell_type": "code",
   "execution_count": 16,
   "id": "2afd2910",
   "metadata": {},
   "outputs": [
    {
     "name": "stdout",
     "output_type": "stream",
     "text": [
      "['ever', 'sinc', 'the', 'populist', 'law', 'and', 'justic', '(pis)', 'parti', 'took', 'power', 'in', '2015,', 'adam', 'bodnar,', 'poland’', 'human-right', 'ombudsman,', 'ha', 'been', 'warn', 'against', 'it', 'relentless', 'effort', 'to', 'get', 'control', 'of', 'the', 'courts.', 'to', 'illustr', 'the', 'danger,', 'he', 'use', 'an', 'express', 'from', 'communist', 'times:', 'lex', 'telefonica.', 'in', 'the', 'polish', 'people’', 'republic,', 'verdict', 'were', 'routin', 'dictat', 'by', 'a', 'phone', 'call', 'from', 'an', 'apparatchik', 'at', 'parti', 'headquarters.', 'today’', 'govern', 'ha', 'more', 'subtl', 'techniques,', 'but', 'the', 'goal', 'is', 'the', 'same,', 'mr', 'bodnar', 'says:', '“if', 'a', 'judg', 'ha', 'a', 'case', 'on', 'hi', 'desk', 'with', 'some', 'polit', 'importance,', 'he', 'should', 'be', 'afraid.”', 'the', 'european', 'commiss', 'is', 'worried,', 'too.', 'it', 'accus', 'pi', 'of', 'violat', 'poland’', 'commit', 'to', 'the', 'rule', 'of', 'law', 'under', 'the', 'european', 'union’', 'found', 'treaty.', 'in', '2017', 'the', 'commiss', 'took', 'poland', 'to', 'the', 'european', 'court', 'of', 'justic', '(ecj)', 'over', 'law', 'that', 'gave', 'politician', 'control', 'over', 'appoint', 'judges.', '(for', 'example,', 'they', 'lower', 'judges’', 'retir', 'age', 'while', 'let', 'the', 'justic', 'minist', 'pick', 'whom', 'to', 'exempt.)', 'the', 'ecj', 'rule', 'against', 'the', 'poles,', 'who', 'had', 'in', 'the', 'meantim', 'scrap', 'some', 'of', 'the', 'measures.']\n"
     ]
    }
   ],
   "source": [
    "stemmed_text = get_stems(text_without_stopwords)\n",
    "print(stemmed_text)"
   ]
  },
  {
   "cell_type": "markdown",
   "id": "aa2dbc80",
   "metadata": {},
   "source": [
    "### 8. Caculate the frequency of all the words after stemming"
   ]
  },
  {
   "cell_type": "code",
   "execution_count": 17,
   "id": "55e80c2c",
   "metadata": {},
   "outputs": [],
   "source": [
    "# get_frequency(stemmed_text, len(text_without_stopwords))"
   ]
  },
  {
   "cell_type": "code",
   "execution_count": 18,
   "id": "f06e97b6",
   "metadata": {},
   "outputs": [
    {
     "name": "stdout",
     "output_type": "stream",
     "text": [
      "{'ever': 1, 'sinc': 1, 'the': 16, 'populist': 1, 'law': 3, 'and': 1, 'justic': 3, '(pis)': 1, 'parti': 2, 'took': 2, 'power': 1, 'in': 4, '2015,': 1, 'adam': 1, 'bodnar,': 1, 'poland’': 2, 'human-right': 1, 'ombudsman,': 1, 'ha': 3, 'been': 1, 'warn': 1, 'against': 2, 'it': 2, 'relentless': 1, 'effort': 1, 'to': 5, 'get': 1, 'control': 2, 'of': 5, 'courts.': 1, 'illustr': 1, 'danger,': 1, 'he': 2, 'use': 1, 'an': 2, 'express': 1, 'from': 2, 'communist': 1, 'times:': 1, 'lex': 1, 'telefonica.': 1, 'polish': 1, 'people’': 1, 'republic,': 1, 'verdict': 1, 'were': 1, 'routin': 1, 'dictat': 1, 'by': 1, 'a': 3, 'phone': 1, 'call': 1, 'apparatchik': 1, 'at': 1, 'headquarters.': 1, 'today’': 1, 'govern': 1, 'more': 1, 'subtl': 1, 'techniques,': 1, 'but': 1, 'goal': 1, 'is': 2, 'same,': 1, 'mr': 1, 'bodnar': 1, 'says:': 1, '“if': 1, 'judg': 1, 'case': 1, 'on': 1, 'hi': 1, 'desk': 1, 'with': 1, 'some': 2, 'polit': 1, 'importance,': 1, 'should': 1, 'be': 1, 'afraid.”': 1, 'european': 3, 'commiss': 2, 'worried,': 1, 'too.': 1, 'accus': 1, 'pi': 1, 'violat': 1, 'commit': 1, 'rule': 2, 'under': 1, 'union’': 1, 'found': 1, 'treaty.': 1, '2017': 1, 'poland': 1, 'court': 1, '(ecj)': 1, 'over': 2, 'that': 1, 'gave': 1, 'politician': 1, 'appoint': 1, 'judges.': 1, '(for': 1, 'example,': 1, 'they': 1, 'lower': 1, 'judges’': 1, 'retir': 1, 'age': 1, 'while': 1, 'let': 1, 'minist': 1, 'pick': 1, 'whom': 1, 'exempt.)': 1, 'ecj': 1, 'poles,': 1, 'who': 1, 'had': 1, 'meantim': 1, 'scrap': 1, 'measures.': 1}\n"
     ]
    }
   ],
   "source": [
    "freq_dict = get_freq(stemmed_text)\n",
    "print(freq_dict)"
   ]
  },
  {
   "cell_type": "code",
   "execution_count": 19,
   "id": "5d7f8d13",
   "metadata": {},
   "outputs": [
    {
     "data": {
      "text/plain": [
       "['the', 'to', 'of', 'in', 'law', 'justic']"
      ]
     },
     "execution_count": 19,
     "metadata": {},
     "output_type": "execute_result"
    }
   ],
   "source": [
    "# This method will sort the dictionary on the values and return the top n \n",
    "# keys of the dictionary.\n",
    "def get_top_n_words(freq_dict, n):\n",
    "    sorted_dict = sorted(freq_dict.items(), key=operator.itemgetter(1), reverse=True)\n",
    "    return [x[0] for x in sorted_dict][:n]\n",
    "top_keywords = get_top_n_words(freq_dict, 6)\n",
    "top_keywords"
   ]
  },
  {
   "cell_type": "code",
   "execution_count": null,
   "id": "c7eafa2f",
   "metadata": {},
   "outputs": [],
   "source": []
  }
 ],
 "metadata": {
  "kernelspec": {
   "display_name": "Python 3",
   "language": "python",
   "name": "python3"
  },
  "language_info": {
   "codemirror_mode": {
    "name": "ipython",
    "version": 3
   },
   "file_extension": ".py",
   "mimetype": "text/x-python",
   "name": "python",
   "nbconvert_exporter": "python",
   "pygments_lexer": "ipython3",
   "version": "3.8.8"
  }
 },
 "nbformat": 4,
 "nbformat_minor": 5
}
