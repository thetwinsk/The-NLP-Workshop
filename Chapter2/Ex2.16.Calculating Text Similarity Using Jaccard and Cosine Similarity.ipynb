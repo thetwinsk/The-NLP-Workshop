{
 "cells": [
  {
   "cell_type": "code",
   "execution_count": 1,
   "id": "dd2864fc",
   "metadata": {},
   "outputs": [],
   "source": [
    "from nltk import word_tokenize \n",
    "from nltk.stem import WordNetLemmatizer\n",
    "from sklearn.feature_extraction.text import TfidfVectorizer\n",
    "from sklearn.metrics.pairwise import cosine_similarity\n",
    "lemmatizer = WordNetLemmatizer()"
   ]
  },
  {
   "cell_type": "markdown",
   "id": "0c73ab1d",
   "metadata": {},
   "source": [
    "#### The Jaccard"
   ]
  },
  {
   "cell_type": "code",
   "execution_count": 2,
   "id": "7eaaa22e",
   "metadata": {},
   "outputs": [],
   "source": [
    "def extract_text_similarity_jaccard(text1, text2):\n",
    "    lemmatizer = WordNetLemmatizer()\n",
    "    words_text1 = [lemmatizer.lemmatize(word.lower())\n",
    "                   for word in word_tokenize(text1)]\n",
    "    words_text2 = [lemmatizer.lemmatize(word.lower())\n",
    "                   for word in word_tokenize(text2)]\n",
    "    nr = len(set(words_text1).intersection(set(words_text2)))\n",
    "    dr = len(set(words_text1).union(set(words_text2)))\n",
    "    jaccard_sim = nr / dr\n",
    "    return jaccard_sim\n",
    "    "
   ]
  },
  {
   "cell_type": "code",
   "execution_count": 3,
   "id": "4002c587",
   "metadata": {},
   "outputs": [],
   "source": [
    "pair1 = [\"What you do defines you\", \"Your deeds define you\"]\n",
    "pair2 = [\"Once upon a time there lived a king.\", \"Who is your queen?\"]\n",
    "pair3 = [\"He is desperate\", \"Is he not desperate?\"]"
   ]
  },
  {
   "cell_type": "code",
   "execution_count": 4,
   "id": "486306fe",
   "metadata": {},
   "outputs": [
    {
     "data": {
      "text/plain": [
       "0.14285714285714285"
      ]
     },
     "execution_count": 4,
     "metadata": {},
     "output_type": "execute_result"
    }
   ],
   "source": [
    "#check the Jaccard similarity between the statements in pair1\n",
    "extract_text_similarity_jaccard(pair1[0], pair1[1])"
   ]
  },
  {
   "cell_type": "code",
   "execution_count": 5,
   "id": "65f0d8d2",
   "metadata": {},
   "outputs": [
    {
     "data": {
      "text/plain": [
       "0.0"
      ]
     },
     "execution_count": 5,
     "metadata": {},
     "output_type": "execute_result"
    }
   ],
   "source": [
    "#check the Jaccard similarity between the statements in pair2\n",
    "extract_text_similarity_jaccard(pair2[0], pair2[1])"
   ]
  },
  {
   "cell_type": "code",
   "execution_count": 6,
   "id": "f0a7d426",
   "metadata": {},
   "outputs": [
    {
     "data": {
      "text/plain": [
       "0.6"
      ]
     },
     "execution_count": 6,
     "metadata": {},
     "output_type": "execute_result"
    }
   ],
   "source": [
    "#check the Jaccard similarity between the statements in pair3\n",
    "extract_text_similarity_jaccard(pair3[0], pair3[1])"
   ]
  },
  {
   "cell_type": "markdown",
   "id": "2d747e85",
   "metadata": {},
   "source": [
    "#### The Cosine "
   ]
  },
  {
   "cell_type": "code",
   "execution_count": 7,
   "id": "3f313539",
   "metadata": {},
   "outputs": [],
   "source": [
    "def get_tf_idf_vectors(corpus):\n",
    "    tfidf_vectorizer = TfidfVectorizer()\n",
    "    tfidf_results = tfidf_vectorizer.fit_transform(corpus).todense()\n",
    "    return tfidf_results"
   ]
  },
  {
   "cell_type": "code",
   "execution_count": 12,
   "id": "3c95d86c",
   "metadata": {},
   "outputs": [],
   "source": [
    "corpus = [pair1[0], pair1[1], pair2[0], pair2[1], pair3[0], pair3[1]]\n",
    "tf_idf_vectors = get_tf_idf_vectors(corpus)"
   ]
  },
  {
   "cell_type": "code",
   "execution_count": 13,
   "id": "1ad55b76",
   "metadata": {},
   "outputs": [
    {
     "data": {
      "text/plain": [
       "array([[0.3082764]])"
      ]
     },
     "execution_count": 13,
     "metadata": {},
     "output_type": "execute_result"
    }
   ],
   "source": [
    "#check the cosine similarity between the initial 2 texts\n",
    "cosine_similarity(tf_idf_vectors[0], tf_idf_vectors[1])"
   ]
  },
  {
   "cell_type": "code",
   "execution_count": 14,
   "id": "36b2901e",
   "metadata": {},
   "outputs": [
    {
     "data": {
      "text/plain": [
       "array([[0.]])"
      ]
     },
     "execution_count": 14,
     "metadata": {},
     "output_type": "execute_result"
    }
   ],
   "source": [
    "#check the cosine similarity between the 3rd & the 4nd texts\n",
    "cosine_similarity(tf_idf_vectors[2], tf_idf_vectors[3])"
   ]
  },
  {
   "cell_type": "code",
   "execution_count": 15,
   "id": "b3b37433",
   "metadata": {},
   "outputs": [
    {
     "data": {
      "text/plain": [
       "array([[0.80368547]])"
      ]
     },
     "execution_count": 15,
     "metadata": {},
     "output_type": "execute_result"
    }
   ],
   "source": [
    "#check the cosine similarity between the 5nd & the 6nd texts\n",
    "cosine_similarity(tf_idf_vectors[4], tf_idf_vectors[5])"
   ]
  },
  {
   "cell_type": "code",
   "execution_count": null,
   "id": "b4abeb01",
   "metadata": {},
   "outputs": [],
   "source": []
  }
 ],
 "metadata": {
  "kernelspec": {
   "display_name": "Python 3",
   "language": "python",
   "name": "python3"
  },
  "language_info": {
   "codemirror_mode": {
    "name": "ipython",
    "version": 3
   },
   "file_extension": ".py",
   "mimetype": "text/x-python",
   "name": "python",
   "nbconvert_exporter": "python",
   "pygments_lexer": "ipython3",
   "version": "3.8.8"
  }
 },
 "nbformat": 4,
 "nbformat_minor": 5
}
