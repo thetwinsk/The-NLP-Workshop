{
 "cells": [
  {
   "cell_type": "code",
   "execution_count": 1,
   "id": "791d62a0",
   "metadata": {},
   "outputs": [],
   "source": [
    "import pandas as pd \n",
    "from sklearn.metrics.pairwise import cosine_similarity \n",
    "from nltk import word_tokenize\n",
    "from sklearn.feature_extraction.text import TfidfVectorizer\n",
    "from sklearn.datasets import fetch_20newsgroups\n",
    "import numpy as np"
   ]
  },
  {
   "cell_type": "code",
   "execution_count": 2,
   "id": "0074c713",
   "metadata": {},
   "outputs": [],
   "source": [
    "def get_tf_idf_vectors(corpus):\n",
    "    tfidf_vectorizer = TfidfVectorizer()\n",
    "    tfidf_results = tfidf_vectorizer.fit_transform(corpus).todense()\n",
    "    return tfidf_results"
   ]
  },
  {
   "cell_type": "code",
   "execution_count": 3,
   "id": "0431fbec",
   "metadata": {},
   "outputs": [],
   "source": [
    "def to_lower_case(corpus):\n",
    "    lowercase_corpus = [x.lower() for x in corpus]\n",
    "    return lowercase_corpus"
   ]
  },
  {
   "cell_type": "code",
   "execution_count": 4,
   "id": "e7ba8546",
   "metadata": {},
   "outputs": [],
   "source": [
    "def find_sentence_definition(sent_vector, definition_vectors):\n",
    "    result_dict = {}\n",
    "    for definition_id, def_vector in definition_vectors.items():\n",
    "        sim = cosine_similarity(sent_vector, def_vector)\n",
    "        result_dict[definition_id] = sim[0][0]\n",
    "    definition = sorted(result_dict.items(),\n",
    "                        key = lambda x: x[1], reverse=True)[0]\n",
    "    return definition[0], definition[1]"
   ]
  },
  {
   "cell_type": "code",
   "execution_count": 7,
   "id": "36042873",
   "metadata": {},
   "outputs": [],
   "source": [
    "corpus = [\"On the banks of river Ganga, there lies the scent of spirituality\",\n",
    "         \"An institute where people can store extra cash or money.\",\n",
    "         \"The land alongside or sloping down to a river or lake\"\n",
    "         \"What you do defines you\",\n",
    "         \"Your deeds define you\",\n",
    "         \"Once upon a time there lived a king.\",\n",
    "         \"Who is your queen?\",\n",
    "         \"He is desperate\",\n",
    "         \"Is he not desperate?\"]"
   ]
  },
  {
   "cell_type": "code",
   "execution_count": 8,
   "id": "288d0d3f",
   "metadata": {},
   "outputs": [
    {
     "name": "stdout",
     "output_type": "stream",
     "text": [
      "The definition of word bank is def2 with similarity of 0.14419130686278897\n"
     ]
    }
   ],
   "source": [
    "lower_case_corpus = to_lower_case(corpus)\n",
    "corpus_tf_idf = get_tf_idf_vectors(lower_case_corpus)\n",
    "sent_vector = corpus_tf_idf[0]\n",
    "definition_vectors = {'def1': corpus_tf_idf[1],\n",
    "                      'def2': corpus_tf_idf[2]}\n",
    "definition_id, score = find_sentence_definition(sent_vector, definition_vectors)\n",
    "print(\"The definition of word {} is {} with similarity of {}\".format('bank',\n",
    "                                                                     definition_id, score))\n"
   ]
  },
  {
   "cell_type": "code",
   "execution_count": null,
   "id": "f2744016",
   "metadata": {},
   "outputs": [],
   "source": []
  }
 ],
 "metadata": {
  "kernelspec": {
   "display_name": "Python 3",
   "language": "python",
   "name": "python3"
  },
  "language_info": {
   "codemirror_mode": {
    "name": "ipython",
    "version": 3
   },
   "file_extension": ".py",
   "mimetype": "text/x-python",
   "name": "python",
   "nbconvert_exporter": "python",
   "pygments_lexer": "ipython3",
   "version": "3.8.8"
  }
 },
 "nbformat": 4,
 "nbformat_minor": 5
}
