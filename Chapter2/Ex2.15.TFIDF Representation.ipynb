{
 "cells": [
  {
   "cell_type": "code",
   "execution_count": 1,
   "id": "a0aebc82",
   "metadata": {},
   "outputs": [],
   "source": [
    "from sklearn.feature_extraction.text import TfidfVectorizer\n",
    "def get_tf_idf_vectors(cotpus):\n",
    "    tfidf_model = TfidfVectorizer()\n",
    "    vector_list = tfidf_model.fit_transform(corpus).todense()\n",
    "    return vector_list"
   ]
  },
  {
   "cell_type": "code",
   "execution_count": 2,
   "id": "d1059407",
   "metadata": {},
   "outputs": [
    {
     "name": "stdout",
     "output_type": "stream",
     "text": [
      "[[0.37185337 0.         0.37185337 0.         0.25743871 0.\n",
      "  0.37185337 0.         0.         0.30492508 0.         0.\n",
      "  0.         0.         0.         0.30492508 0.         0.\n",
      "  0.         0.         0.37185337 0.         0.         0.\n",
      "  0.44121082 0.        ]\n",
      " [0.         0.3606771  0.         0.3606771  0.30450839 0.\n",
      "  0.         0.         0.3606771  0.         0.         0.\n",
      "  0.43984245 0.3606771  0.         0.         0.         0.\n",
      "  0.         0.         0.         0.         0.         0.43984245\n",
      "  0.         0.        ]\n",
      " [0.         0.         0.         0.44674151 0.         0.\n",
      "  0.         0.         0.44674151 0.         0.         0.\n",
      "  0.         0.44674151 0.         0.         0.         0.54479721\n",
      "  0.         0.         0.         0.         0.         0.\n",
      "  0.32320593 0.        ]\n",
      " [0.         0.34953847 0.         0.         0.2951044  0.42625899\n",
      "  0.         0.42625899 0.         0.         0.         0.42625899\n",
      "  0.         0.         0.42625899 0.         0.         0.\n",
      "  0.         0.         0.         0.         0.         0.\n",
      "  0.25288205 0.        ]\n",
      " [0.         0.         0.         0.         0.         0.\n",
      "  0.         0.         0.         0.         0.70710678 0.\n",
      "  0.         0.         0.         0.         0.         0.\n",
      "  0.         0.         0.         0.         0.         0.\n",
      "  0.         0.70710678]\n",
      " [0.         0.         0.         0.         0.         0.\n",
      "  0.         0.         0.         0.31687477 0.         0.\n",
      "  0.         0.         0.         0.31687477 0.3864259  0.\n",
      "  0.3864259  0.3864259  0.         0.3864259  0.3864259  0.\n",
      "  0.2292507  0.        ]]\n"
     ]
    }
   ],
   "source": [
    "corpus = ['Data Science is an overlap between Arts anf Science',\n",
    "         'Generally, Arts graduates are right-brained and ',\n",
    "         'Science graduates are left brained',\n",
    "         'Excelling in both Arts and Science at a ',\n",
    "         'time difficult',\n",
    "         'Natural Language Processing is a part of Data Science']\n",
    "vector_list = get_tf_idf_vectors(corpus)\n",
    "print(vector_list)"
   ]
  },
  {
   "cell_type": "code",
   "execution_count": null,
   "id": "e703e3cc",
   "metadata": {},
   "outputs": [],
   "source": []
  }
 ],
 "metadata": {
  "kernelspec": {
   "display_name": "Python 3",
   "language": "python",
   "name": "python3"
  },
  "language_info": {
   "codemirror_mode": {
    "name": "ipython",
    "version": 3
   },
   "file_extension": ".py",
   "mimetype": "text/x-python",
   "name": "python",
   "nbconvert_exporter": "python",
   "pygments_lexer": "ipython3",
   "version": "3.8.8"
  }
 },
 "nbformat": 4,
 "nbformat_minor": 5
}
