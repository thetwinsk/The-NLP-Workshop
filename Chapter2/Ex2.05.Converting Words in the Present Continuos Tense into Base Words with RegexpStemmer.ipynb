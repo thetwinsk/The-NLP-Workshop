{
 "cells": [
  {
   "cell_type": "code",
   "execution_count": 1,
   "id": "0155c08a",
   "metadata": {},
   "outputs": [],
   "source": [
    "from nltk.stem import RegexpStemmer"
   ]
  },
  {
   "cell_type": "code",
   "execution_count": 2,
   "id": "79684e5b",
   "metadata": {},
   "outputs": [],
   "source": [
    "def get_stems(text):\n",
    "    regex_stemmer = RegexpStemmer('ing$', min=4)\n",
    "    return ' '.join([regex_stemmer.stem(wd) for wd in text.split()])"
   ]
  },
  {
   "cell_type": "code",
   "execution_count": 3,
   "id": "1b7f6160",
   "metadata": {},
   "outputs": [
    {
     "data": {
      "text/plain": [
       "'I love play football'"
      ]
     },
     "execution_count": 3,
     "metadata": {},
     "output_type": "execute_result"
    }
   ],
   "source": [
    "sentence = \"I love playing football\"\n",
    "get_stems(sentence)"
   ]
  },
  {
   "cell_type": "code",
   "execution_count": null,
   "id": "f23aceb3",
   "metadata": {},
   "outputs": [],
   "source": []
  }
 ],
 "metadata": {
  "kernelspec": {
   "display_name": "Python 3",
   "language": "python",
   "name": "python3"
  },
  "language_info": {
   "codemirror_mode": {
    "name": "ipython",
    "version": 3
   },
   "file_extension": ".py",
   "mimetype": "text/x-python",
   "name": "python",
   "nbconvert_exporter": "python",
   "pygments_lexer": "ipython3",
   "version": "3.8.8"
  }
 },
 "nbformat": 4,
 "nbformat_minor": 5
}
