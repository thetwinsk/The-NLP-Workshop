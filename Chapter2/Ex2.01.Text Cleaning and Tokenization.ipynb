{
 "cells": [
  {
   "cell_type": "code",
   "execution_count": 1,
   "id": "fa88fdd2",
   "metadata": {},
   "outputs": [],
   "source": [
    "import re\n",
    "def clean_text(sentence):\n",
    "    return re.sub(r'([^\\s\\w]|_)+', ' ', sentence).split()"
   ]
  },
  {
   "cell_type": "code",
   "execution_count": 3,
   "id": "ea1d946e",
   "metadata": {},
   "outputs": [
    {
     "data": {
      "text/plain": [
       "['Sunil',\n",
       " 'tweeted',\n",
       " 'Witnessing',\n",
       " '70th',\n",
       " 'Republic',\n",
       " 'Day',\n",
       " 'of',\n",
       " 'India',\n",
       " 'from',\n",
       " 'Rajpath',\n",
       " 'New',\n",
       " 'Delhi',\n",
       " 'Mesmerizing',\n",
       " 'performance',\n",
       " 'by',\n",
       " 'Indian',\n",
       " 'Army',\n",
       " 'Awesome',\n",
       " 'airshow',\n",
       " 'india',\n",
       " 'offcial',\n",
       " 'indian',\n",
       " 'army',\n",
       " 'India',\n",
       " '70thRepublic',\n",
       " 'Day',\n",
       " 'For',\n",
       " 'more',\n",
       " 'photos',\n",
       " 'ping',\n",
       " 'me',\n",
       " 'sunil',\n",
       " 'photoking',\n",
       " 'com']"
      ]
     },
     "execution_count": 3,
     "metadata": {},
     "output_type": "execute_result"
    }
   ],
   "source": [
    "sentence = 'Sunil tweeted, \"Witnessing 70th Republic Day of India from Rajpath, New Delhi. \"\\\n",
    "\"Mesmerizing performance by Indian Army. Awesome airshow! @india_offcial @indian_army #India \"\\\n",
    "\"#70thRepublic_Day. For more photos ping me sunil@photoking.com :)\"'\n",
    "clean_text(sentence)"
   ]
  },
  {
   "cell_type": "code",
   "execution_count": 4,
   "id": "49333634",
   "metadata": {},
   "outputs": [],
   "source": [
    "sentence = 'Sunil tweeted, \"Witnessing 70th Republic Day of India from Rajpath, New Delhi. \"\\\n",
    "\"Mesmerizing performance by Indian Army. Awesome airshow! @india_offcial @indian_army #India \"\\\n",
    "\"#70thRepublic_Day. For more photos ping me sunil@photoking.com :)\"'"
   ]
  },
  {
   "cell_type": "code",
   "execution_count": 8,
   "id": "c03cfda9",
   "metadata": {},
   "outputs": [
    {
     "data": {
      "text/plain": [
       "'Sunil tweeted   Witnessing 70th Republic Day of India from Rajpath  New Delhi   Mesmerizing performance by Indian Army  Awesome airshow   india offcial  indian army  India  70thRepublic Day  For more photos ping me sunil photoking com  '"
      ]
     },
     "execution_count": 8,
     "metadata": {},
     "output_type": "execute_result"
    }
   ],
   "source": [
    "no_split = re.sub(r'([^\\s\\w]|_)+', ' ', sentence)\n",
    "no_split"
   ]
  },
  {
   "cell_type": "code",
   "execution_count": 6,
   "id": "7c608b2b",
   "metadata": {},
   "outputs": [
    {
     "data": {
      "text/plain": [
       "str"
      ]
     },
     "execution_count": 6,
     "metadata": {},
     "output_type": "execute_result"
    }
   ],
   "source": [
    "type(sentence)"
   ]
  },
  {
   "cell_type": "code",
   "execution_count": 10,
   "id": "a5e52c2d",
   "metadata": {},
   "outputs": [
    {
     "data": {
      "text/plain": [
       "'Sunil tweeted Witnessing 70th Republic Day of India from Rajpath New Delhi Mesmerizing performance by Indian Army Awesome airshow india offcial indian army India 70thRepublic Day For more photos ping me sunil photoking com '"
      ]
     },
     "execution_count": 10,
     "metadata": {},
     "output_type": "execute_result"
    }
   ],
   "source": [
    "no_split = re.sub(\" +\", \" \", no_split)\n",
    "no_split"
   ]
  },
  {
   "cell_type": "code",
   "execution_count": null,
   "id": "eca73121",
   "metadata": {},
   "outputs": [],
   "source": []
  }
 ],
 "metadata": {
  "kernelspec": {
   "display_name": "Python 3",
   "language": "python",
   "name": "python3"
  },
  "language_info": {
   "codemirror_mode": {
    "name": "ipython",
    "version": 3
   },
   "file_extension": ".py",
   "mimetype": "text/x-python",
   "name": "python",
   "nbconvert_exporter": "python",
   "pygments_lexer": "ipython3",
   "version": "3.8.8"
  }
 },
 "nbformat": 4,
 "nbformat_minor": 5
}
